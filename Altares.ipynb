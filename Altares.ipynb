{
 "cells": [
  {
   "cell_type": "code",
   "execution_count": 1,
   "id": "b292cb94-38c7-4058-ae3e-e76ab91e59b6",
   "metadata": {},
   "outputs": [],
   "source": [
    "# Importation des librairies \n",
    "import pandas as pd \n",
    "import numpy as np\n",
    "import seaborn as sns \n",
    "import matplotlib.pyplot as plt\n",
    "import plotly.io as pio\n",
    "pio.renderers.default = \"iframe_connected\"\n",
    "import plotly.express as px\n",
    "\n",
    "from sklearn.preprocessing import StandardScaler, OneHotEncoder\n",
    "\n",
    "from sklearn.model_selection import train_test_split\n",
    "from sklearn.model_selection import cross_val_score, GridSearchCV\n",
    "\n",
    "\n",
    "from sklearn.ensemble import RandomForestClassifier\n",
    "from sklearn.tree import DecisionTreeClassifier\n",
    "from sklearn.linear_model import LogisticRegression\n",
    "\n",
    "from sklearn.datasets import make_classification\n",
    "from sklearn import metrics\n",
    "from sklearn.metrics import f1_score,confusion_matrix, roc_curve\n",
    "from sklearn.metrics import classification_report\n",
    "\n",
    "\n",
    "from sklearn.pipeline import Pipeline\n",
    "from sklearn.impute import SimpleImputer\n",
    "from sklearn.compose import ColumnTransformer"
   ]
  },
  {
   "cell_type": "code",
   "execution_count": 2,
   "id": "577f7d3a-6b89-4433-ae1d-c4a86d6fa092",
   "metadata": {},
   "outputs": [],
   "source": [
    "# Jimporte mon dataset\n",
    "dataset = pd.read_csv('sample_dataset.csv', sep=';', engine='python')"
   ]
  },
  {
   "cell_type": "code",
   "execution_count": 3,
   "id": "056daae2-a3b7-4bdd-828f-cb0e71dc4f89",
   "metadata": {},
   "outputs": [
    {
     "data": {
      "text/html": [
       "<div>\n",
       "<style scoped>\n",
       "    .dataframe tbody tr th:only-of-type {\n",
       "        vertical-align: middle;\n",
       "    }\n",
       "\n",
       "    .dataframe tbody tr th {\n",
       "        vertical-align: top;\n",
       "    }\n",
       "\n",
       "    .dataframe thead th {\n",
       "        text-align: right;\n",
       "    }\n",
       "</style>\n",
       "<table border=\"1\" class=\"dataframe\">\n",
       "  <thead>\n",
       "    <tr style=\"text-align: right;\">\n",
       "      <th></th>\n",
       "      <th>id_firm</th>\n",
       "      <th>activity_index</th>\n",
       "      <th>bonus_a</th>\n",
       "      <th>bonus_c</th>\n",
       "      <th>origin</th>\n",
       "      <th>monoact_code</th>\n",
       "      <th>naf_code</th>\n",
       "      <th>legal_code</th>\n",
       "      <th>age_months</th>\n",
       "      <th>zipcode</th>\n",
       "      <th>nb_employees</th>\n",
       "      <th>paydex</th>\n",
       "      <th>nb_sites</th>\n",
       "      <th>ind_privilege</th>\n",
       "      <th>mmd020101</th>\n",
       "      <th>mmd0303</th>\n",
       "      <th>mmd0402</th>\n",
       "      <th>mmd0501</th>\n",
       "      <th>bad</th>\n",
       "      <th>bad_type</th>\n",
       "    </tr>\n",
       "  </thead>\n",
       "  <tbody>\n",
       "    <tr>\n",
       "      <th>1</th>\n",
       "      <td>33344</td>\n",
       "      <td>3.0</td>\n",
       "      <td>NaN</td>\n",
       "      <td>C11</td>\n",
       "      <td>NaN</td>\n",
       "      <td>1.0</td>\n",
       "      <td>5510Z</td>\n",
       "      <td>NaN</td>\n",
       "      <td>796.0</td>\n",
       "      <td>13.0</td>\n",
       "      <td>NN</td>\n",
       "      <td>NaN</td>\n",
       "      <td>1</td>\n",
       "      <td>0</td>\n",
       "      <td>NaN</td>\n",
       "      <td>NaN</td>\n",
       "      <td>NaN</td>\n",
       "      <td>NaN</td>\n",
       "      <td>1</td>\n",
       "      <td>LJ</td>\n",
       "    </tr>\n",
       "    <tr>\n",
       "      <th>2</th>\n",
       "      <td>37780</td>\n",
       "      <td>2.0</td>\n",
       "      <td>NaN</td>\n",
       "      <td>C11</td>\n",
       "      <td>1</td>\n",
       "      <td>1.0</td>\n",
       "      <td>0000Z</td>\n",
       "      <td>NaN</td>\n",
       "      <td>217.0</td>\n",
       "      <td>13.0</td>\n",
       "      <td>00</td>\n",
       "      <td>NaN</td>\n",
       "      <td>1</td>\n",
       "      <td>0</td>\n",
       "      <td>NaN</td>\n",
       "      <td>NaN</td>\n",
       "      <td>NaN</td>\n",
       "      <td>NaN</td>\n",
       "      <td>1</td>\n",
       "      <td>LJ</td>\n",
       "    </tr>\n",
       "    <tr>\n",
       "      <th>3</th>\n",
       "      <td>45262</td>\n",
       "      <td>9.0</td>\n",
       "      <td>NaN</td>\n",
       "      <td>C5</td>\n",
       "      <td>1</td>\n",
       "      <td>1.0</td>\n",
       "      <td>6820A</td>\n",
       "      <td>NaN</td>\n",
       "      <td>749.0</td>\n",
       "      <td>89.0</td>\n",
       "      <td>NN</td>\n",
       "      <td>NaN</td>\n",
       "      <td>1</td>\n",
       "      <td>0</td>\n",
       "      <td>NaN</td>\n",
       "      <td>NaN</td>\n",
       "      <td>NaN</td>\n",
       "      <td>NaN</td>\n",
       "      <td>1</td>\n",
       "      <td>LJ</td>\n",
       "    </tr>\n",
       "    <tr>\n",
       "      <th>4</th>\n",
       "      <td>48596</td>\n",
       "      <td>18.0</td>\n",
       "      <td>NaN</td>\n",
       "      <td>C6</td>\n",
       "      <td>3</td>\n",
       "      <td>1.0</td>\n",
       "      <td>9602A</td>\n",
       "      <td>NaN</td>\n",
       "      <td>569.0</td>\n",
       "      <td>67.0</td>\n",
       "      <td>02</td>\n",
       "      <td>NaN</td>\n",
       "      <td>1</td>\n",
       "      <td>0</td>\n",
       "      <td>NaN</td>\n",
       "      <td>NaN</td>\n",
       "      <td>NaN</td>\n",
       "      <td>NaN</td>\n",
       "      <td>1</td>\n",
       "      <td>LJ</td>\n",
       "    </tr>\n",
       "    <tr>\n",
       "      <th>5</th>\n",
       "      <td>49911</td>\n",
       "      <td>30.0</td>\n",
       "      <td>NaN</td>\n",
       "      <td>C6</td>\n",
       "      <td>1</td>\n",
       "      <td>1.0</td>\n",
       "      <td>4662Z</td>\n",
       "      <td>NaN</td>\n",
       "      <td>565.0</td>\n",
       "      <td>82.0</td>\n",
       "      <td>03</td>\n",
       "      <td>54.0</td>\n",
       "      <td>1</td>\n",
       "      <td>0</td>\n",
       "      <td>NaN</td>\n",
       "      <td>NaN</td>\n",
       "      <td>NaN</td>\n",
       "      <td>MMD0501_0_11</td>\n",
       "      <td>1</td>\n",
       "      <td>LJ</td>\n",
       "    </tr>\n",
       "  </tbody>\n",
       "</table>\n",
       "</div>"
      ],
      "text/plain": [
       "   id_firm  activity_index bonus_a bonus_c origin  monoact_code naf_code  \\\n",
       "1    33344             3.0     NaN     C11    NaN           1.0    5510Z   \n",
       "2    37780             2.0     NaN     C11      1           1.0    0000Z   \n",
       "3    45262             9.0     NaN      C5      1           1.0    6820A   \n",
       "4    48596            18.0     NaN      C6      3           1.0    9602A   \n",
       "5    49911            30.0     NaN      C6      1           1.0    4662Z   \n",
       "\n",
       "   legal_code  age_months  zipcode nb_employees  paydex  nb_sites  \\\n",
       "1         NaN       796.0     13.0           NN     NaN         1   \n",
       "2         NaN       217.0     13.0           00     NaN         1   \n",
       "3         NaN       749.0     89.0           NN     NaN         1   \n",
       "4         NaN       569.0     67.0           02     NaN         1   \n",
       "5         NaN       565.0     82.0           03    54.0         1   \n",
       "\n",
       "   ind_privilege mmd020101 mmd0303 mmd0402       mmd0501  bad bad_type  \n",
       "1              0       NaN     NaN     NaN           NaN    1       LJ  \n",
       "2              0       NaN     NaN     NaN           NaN    1       LJ  \n",
       "3              0       NaN     NaN     NaN           NaN    1       LJ  \n",
       "4              0       NaN     NaN     NaN           NaN    1       LJ  \n",
       "5              0       NaN     NaN     NaN  MMD0501_0_11    1       LJ  "
      ]
     },
     "execution_count": 3,
     "metadata": {},
     "output_type": "execute_result"
    }
   ],
   "source": [
    "dataset.head()"
   ]
  },
  {
   "cell_type": "code",
   "execution_count": 4,
   "id": "d88579e5-c347-4781-a5a1-e4d7e61262bb",
   "metadata": {},
   "outputs": [
    {
     "data": {
      "text/plain": [
       "(100000, 20)"
      ]
     },
     "execution_count": 4,
     "metadata": {},
     "output_type": "execute_result"
    }
   ],
   "source": [
    "dataset.shape"
   ]
  },
  {
   "cell_type": "code",
   "execution_count": 5,
   "id": "767bea5d-2e22-4247-bb3a-7547762622ad",
   "metadata": {},
   "outputs": [
    {
     "data": {
      "text/plain": [
       "Index(['id_firm', 'activity_index', 'bonus_a', 'bonus_c', 'origin',\n",
       "       'monoact_code', 'naf_code', 'legal_code', 'age_months', 'zipcode',\n",
       "       'nb_employees', 'paydex', 'nb_sites', 'ind_privilege', 'mmd020101',\n",
       "       'mmd0303', 'mmd0402', 'mmd0501', 'bad', 'bad_type'],\n",
       "      dtype='object')"
      ]
     },
     "execution_count": 5,
     "metadata": {},
     "output_type": "execute_result"
    }
   ],
   "source": [
    "dataset.columns"
   ]
  },
  {
   "cell_type": "code",
   "execution_count": 6,
   "id": "65569d03-17d5-4580-9cd6-47a8ac846a58",
   "metadata": {},
   "outputs": [
    {
     "data": {
      "text/html": [
       "<div>\n",
       "<style scoped>\n",
       "    .dataframe tbody tr th:only-of-type {\n",
       "        vertical-align: middle;\n",
       "    }\n",
       "\n",
       "    .dataframe tbody tr th {\n",
       "        vertical-align: top;\n",
       "    }\n",
       "\n",
       "    .dataframe thead th {\n",
       "        text-align: right;\n",
       "    }\n",
       "</style>\n",
       "<table border=\"1\" class=\"dataframe\">\n",
       "  <thead>\n",
       "    <tr style=\"text-align: right;\">\n",
       "      <th></th>\n",
       "      <th>id_firm</th>\n",
       "      <th>activity_index</th>\n",
       "      <th>bonus_a</th>\n",
       "      <th>bonus_c</th>\n",
       "      <th>origin</th>\n",
       "      <th>monoact_code</th>\n",
       "      <th>naf_code</th>\n",
       "      <th>legal_code</th>\n",
       "      <th>age_months</th>\n",
       "      <th>zipcode</th>\n",
       "      <th>nb_employees</th>\n",
       "      <th>paydex</th>\n",
       "      <th>nb_sites</th>\n",
       "      <th>ind_privilege</th>\n",
       "      <th>mmd020101</th>\n",
       "      <th>mmd0303</th>\n",
       "      <th>mmd0402</th>\n",
       "      <th>mmd0501</th>\n",
       "      <th>bad</th>\n",
       "      <th>bad_type</th>\n",
       "    </tr>\n",
       "  </thead>\n",
       "  <tbody>\n",
       "    <tr>\n",
       "      <th>count</th>\n",
       "      <td>1.000000e+05</td>\n",
       "      <td>99535.000000</td>\n",
       "      <td>2776</td>\n",
       "      <td>100000</td>\n",
       "      <td>99228</td>\n",
       "      <td>95032.000000</td>\n",
       "      <td>99971</td>\n",
       "      <td>0.0</td>\n",
       "      <td>99954.000000</td>\n",
       "      <td>99905.000000</td>\n",
       "      <td>99959</td>\n",
       "      <td>9841.000000</td>\n",
       "      <td>100000.000000</td>\n",
       "      <td>100000.000000</td>\n",
       "      <td>9068</td>\n",
       "      <td>1257</td>\n",
       "      <td>2154</td>\n",
       "      <td>8744</td>\n",
       "      <td>100000.00000</td>\n",
       "      <td>1363</td>\n",
       "    </tr>\n",
       "    <tr>\n",
       "      <th>unique</th>\n",
       "      <td>NaN</td>\n",
       "      <td>NaN</td>\n",
       "      <td>5</td>\n",
       "      <td>13</td>\n",
       "      <td>12</td>\n",
       "      <td>NaN</td>\n",
       "      <td>653</td>\n",
       "      <td>NaN</td>\n",
       "      <td>NaN</td>\n",
       "      <td>NaN</td>\n",
       "      <td>15</td>\n",
       "      <td>NaN</td>\n",
       "      <td>NaN</td>\n",
       "      <td>NaN</td>\n",
       "      <td>3</td>\n",
       "      <td>3</td>\n",
       "      <td>3</td>\n",
       "      <td>3</td>\n",
       "      <td>NaN</td>\n",
       "      <td>3</td>\n",
       "    </tr>\n",
       "    <tr>\n",
       "      <th>top</th>\n",
       "      <td>NaN</td>\n",
       "      <td>NaN</td>\n",
       "      <td>A4</td>\n",
       "      <td>C11</td>\n",
       "      <td>1</td>\n",
       "      <td>NaN</td>\n",
       "      <td>7022Z</td>\n",
       "      <td>NaN</td>\n",
       "      <td>NaN</td>\n",
       "      <td>NaN</td>\n",
       "      <td>NN</td>\n",
       "      <td>NaN</td>\n",
       "      <td>NaN</td>\n",
       "      <td>NaN</td>\n",
       "      <td>MMD020101_24_60</td>\n",
       "      <td>MMD0303_24_60</td>\n",
       "      <td>MMD0402_24_60</td>\n",
       "      <td>MMD0501_12_35</td>\n",
       "      <td>NaN</td>\n",
       "      <td>LJ</td>\n",
       "    </tr>\n",
       "    <tr>\n",
       "      <th>freq</th>\n",
       "      <td>NaN</td>\n",
       "      <td>NaN</td>\n",
       "      <td>2338</td>\n",
       "      <td>35921</td>\n",
       "      <td>89724</td>\n",
       "      <td>NaN</td>\n",
       "      <td>5593</td>\n",
       "      <td>NaN</td>\n",
       "      <td>NaN</td>\n",
       "      <td>NaN</td>\n",
       "      <td>32794</td>\n",
       "      <td>NaN</td>\n",
       "      <td>NaN</td>\n",
       "      <td>NaN</td>\n",
       "      <td>5497</td>\n",
       "      <td>961</td>\n",
       "      <td>1223</td>\n",
       "      <td>4428</td>\n",
       "      <td>NaN</td>\n",
       "      <td>1207</td>\n",
       "    </tr>\n",
       "    <tr>\n",
       "      <th>mean</th>\n",
       "      <td>1.686231e+07</td>\n",
       "      <td>7.542744</td>\n",
       "      <td>NaN</td>\n",
       "      <td>NaN</td>\n",
       "      <td>NaN</td>\n",
       "      <td>1.007429</td>\n",
       "      <td>NaN</td>\n",
       "      <td>NaN</td>\n",
       "      <td>94.922034</td>\n",
       "      <td>137.800260</td>\n",
       "      <td>NaN</td>\n",
       "      <td>68.083020</td>\n",
       "      <td>1.048410</td>\n",
       "      <td>0.001180</td>\n",
       "      <td>NaN</td>\n",
       "      <td>NaN</td>\n",
       "      <td>NaN</td>\n",
       "      <td>NaN</td>\n",
       "      <td>0.01363</td>\n",
       "      <td>NaN</td>\n",
       "    </tr>\n",
       "    <tr>\n",
       "      <th>std</th>\n",
       "      <td>8.055985e+06</td>\n",
       "      <td>8.108525</td>\n",
       "      <td>NaN</td>\n",
       "      <td>NaN</td>\n",
       "      <td>NaN</td>\n",
       "      <td>0.207629</td>\n",
       "      <td>NaN</td>\n",
       "      <td>NaN</td>\n",
       "      <td>119.197545</td>\n",
       "      <td>255.398305</td>\n",
       "      <td>NaN</td>\n",
       "      <td>18.335727</td>\n",
       "      <td>3.051708</td>\n",
       "      <td>0.040971</td>\n",
       "      <td>NaN</td>\n",
       "      <td>NaN</td>\n",
       "      <td>NaN</td>\n",
       "      <td>NaN</td>\n",
       "      <td>0.11595</td>\n",
       "      <td>NaN</td>\n",
       "    </tr>\n",
       "    <tr>\n",
       "      <th>min</th>\n",
       "      <td>1.173000e+04</td>\n",
       "      <td>0.000000</td>\n",
       "      <td>NaN</td>\n",
       "      <td>NaN</td>\n",
       "      <td>NaN</td>\n",
       "      <td>0.000000</td>\n",
       "      <td>NaN</td>\n",
       "      <td>NaN</td>\n",
       "      <td>-11.000000</td>\n",
       "      <td>1.000000</td>\n",
       "      <td>NaN</td>\n",
       "      <td>0.000000</td>\n",
       "      <td>0.000000</td>\n",
       "      <td>0.000000</td>\n",
       "      <td>NaN</td>\n",
       "      <td>NaN</td>\n",
       "      <td>NaN</td>\n",
       "      <td>NaN</td>\n",
       "      <td>0.00000</td>\n",
       "      <td>NaN</td>\n",
       "    </tr>\n",
       "    <tr>\n",
       "      <th>25%</th>\n",
       "      <td>1.345830e+07</td>\n",
       "      <td>1.000000</td>\n",
       "      <td>NaN</td>\n",
       "      <td>NaN</td>\n",
       "      <td>NaN</td>\n",
       "      <td>1.000000</td>\n",
       "      <td>NaN</td>\n",
       "      <td>NaN</td>\n",
       "      <td>12.000000</td>\n",
       "      <td>35.000000</td>\n",
       "      <td>NaN</td>\n",
       "      <td>64.000000</td>\n",
       "      <td>1.000000</td>\n",
       "      <td>0.000000</td>\n",
       "      <td>NaN</td>\n",
       "      <td>NaN</td>\n",
       "      <td>NaN</td>\n",
       "      <td>NaN</td>\n",
       "      <td>0.00000</td>\n",
       "      <td>NaN</td>\n",
       "    </tr>\n",
       "    <tr>\n",
       "      <th>50%</th>\n",
       "      <td>2.039545e+07</td>\n",
       "      <td>4.000000</td>\n",
       "      <td>NaN</td>\n",
       "      <td>NaN</td>\n",
       "      <td>NaN</td>\n",
       "      <td>1.000000</td>\n",
       "      <td>NaN</td>\n",
       "      <td>NaN</td>\n",
       "      <td>50.000000</td>\n",
       "      <td>75.000000</td>\n",
       "      <td>NaN</td>\n",
       "      <td>77.000000</td>\n",
       "      <td>1.000000</td>\n",
       "      <td>0.000000</td>\n",
       "      <td>NaN</td>\n",
       "      <td>NaN</td>\n",
       "      <td>NaN</td>\n",
       "      <td>NaN</td>\n",
       "      <td>0.00000</td>\n",
       "      <td>NaN</td>\n",
       "    </tr>\n",
       "    <tr>\n",
       "      <th>75%</th>\n",
       "      <td>2.336135e+07</td>\n",
       "      <td>12.000000</td>\n",
       "      <td>NaN</td>\n",
       "      <td>NaN</td>\n",
       "      <td>NaN</td>\n",
       "      <td>1.000000</td>\n",
       "      <td>NaN</td>\n",
       "      <td>NaN</td>\n",
       "      <td>138.000000</td>\n",
       "      <td>88.000000</td>\n",
       "      <td>NaN</td>\n",
       "      <td>80.000000</td>\n",
       "      <td>1.000000</td>\n",
       "      <td>0.000000</td>\n",
       "      <td>NaN</td>\n",
       "      <td>NaN</td>\n",
       "      <td>NaN</td>\n",
       "      <td>NaN</td>\n",
       "      <td>0.00000</td>\n",
       "      <td>NaN</td>\n",
       "    </tr>\n",
       "    <tr>\n",
       "      <th>max</th>\n",
       "      <td>2.491231e+07</td>\n",
       "      <td>51.000000</td>\n",
       "      <td>NaN</td>\n",
       "      <td>NaN</td>\n",
       "      <td>NaN</td>\n",
       "      <td>7.000000</td>\n",
       "      <td>NaN</td>\n",
       "      <td>NaN</td>\n",
       "      <td>1351.000000</td>\n",
       "      <td>976.000000</td>\n",
       "      <td>NaN</td>\n",
       "      <td>80.000000</td>\n",
       "      <td>488.000000</td>\n",
       "      <td>3.000000</td>\n",
       "      <td>NaN</td>\n",
       "      <td>NaN</td>\n",
       "      <td>NaN</td>\n",
       "      <td>NaN</td>\n",
       "      <td>1.00000</td>\n",
       "      <td>NaN</td>\n",
       "    </tr>\n",
       "  </tbody>\n",
       "</table>\n",
       "</div>"
      ],
      "text/plain": [
       "             id_firm  activity_index bonus_a bonus_c origin  monoact_code  \\\n",
       "count   1.000000e+05    99535.000000    2776  100000  99228  95032.000000   \n",
       "unique           NaN             NaN       5      13     12           NaN   \n",
       "top              NaN             NaN      A4     C11      1           NaN   \n",
       "freq             NaN             NaN    2338   35921  89724           NaN   \n",
       "mean    1.686231e+07        7.542744     NaN     NaN    NaN      1.007429   \n",
       "std     8.055985e+06        8.108525     NaN     NaN    NaN      0.207629   \n",
       "min     1.173000e+04        0.000000     NaN     NaN    NaN      0.000000   \n",
       "25%     1.345830e+07        1.000000     NaN     NaN    NaN      1.000000   \n",
       "50%     2.039545e+07        4.000000     NaN     NaN    NaN      1.000000   \n",
       "75%     2.336135e+07       12.000000     NaN     NaN    NaN      1.000000   \n",
       "max     2.491231e+07       51.000000     NaN     NaN    NaN      7.000000   \n",
       "\n",
       "       naf_code  legal_code    age_months       zipcode nb_employees  \\\n",
       "count     99971         0.0  99954.000000  99905.000000        99959   \n",
       "unique      653         NaN           NaN           NaN           15   \n",
       "top       7022Z         NaN           NaN           NaN           NN   \n",
       "freq       5593         NaN           NaN           NaN        32794   \n",
       "mean        NaN         NaN     94.922034    137.800260          NaN   \n",
       "std         NaN         NaN    119.197545    255.398305          NaN   \n",
       "min         NaN         NaN    -11.000000      1.000000          NaN   \n",
       "25%         NaN         NaN     12.000000     35.000000          NaN   \n",
       "50%         NaN         NaN     50.000000     75.000000          NaN   \n",
       "75%         NaN         NaN    138.000000     88.000000          NaN   \n",
       "max         NaN         NaN   1351.000000    976.000000          NaN   \n",
       "\n",
       "             paydex       nb_sites  ind_privilege        mmd020101  \\\n",
       "count   9841.000000  100000.000000  100000.000000             9068   \n",
       "unique          NaN            NaN            NaN                3   \n",
       "top             NaN            NaN            NaN  MMD020101_24_60   \n",
       "freq            NaN            NaN            NaN             5497   \n",
       "mean      68.083020       1.048410       0.001180              NaN   \n",
       "std       18.335727       3.051708       0.040971              NaN   \n",
       "min        0.000000       0.000000       0.000000              NaN   \n",
       "25%       64.000000       1.000000       0.000000              NaN   \n",
       "50%       77.000000       1.000000       0.000000              NaN   \n",
       "75%       80.000000       1.000000       0.000000              NaN   \n",
       "max       80.000000     488.000000       3.000000              NaN   \n",
       "\n",
       "              mmd0303        mmd0402        mmd0501           bad bad_type  \n",
       "count            1257           2154           8744  100000.00000     1363  \n",
       "unique              3              3              3           NaN        3  \n",
       "top     MMD0303_24_60  MMD0402_24_60  MMD0501_12_35           NaN       LJ  \n",
       "freq              961           1223           4428           NaN     1207  \n",
       "mean              NaN            NaN            NaN       0.01363      NaN  \n",
       "std               NaN            NaN            NaN       0.11595      NaN  \n",
       "min               NaN            NaN            NaN       0.00000      NaN  \n",
       "25%               NaN            NaN            NaN       0.00000      NaN  \n",
       "50%               NaN            NaN            NaN       0.00000      NaN  \n",
       "75%               NaN            NaN            NaN       0.00000      NaN  \n",
       "max               NaN            NaN            NaN       1.00000      NaN  "
      ]
     },
     "execution_count": 6,
     "metadata": {},
     "output_type": "execute_result"
    }
   ],
   "source": [
    "dataset.describe(include='all')\n",
    "# Analyser les stats pr préparer mes préprocessing "
   ]
  },
  {
   "cell_type": "code",
   "execution_count": 7,
   "id": "3f80d82e-bb52-4a84-85be-13d73c8be320",
   "metadata": {},
   "outputs": [
    {
     "name": "stdout",
     "output_type": "stream",
     "text": [
      "<class 'pandas.core.frame.DataFrame'>\n",
      "Int64Index: 100000 entries, 1 to 100000\n",
      "Data columns (total 20 columns):\n",
      " #   Column          Non-Null Count   Dtype  \n",
      "---  ------          --------------   -----  \n",
      " 0   id_firm         100000 non-null  int64  \n",
      " 1   activity_index  99535 non-null   float64\n",
      " 2   bonus_a         2776 non-null    object \n",
      " 3   bonus_c         100000 non-null  object \n",
      " 4   origin          99228 non-null   object \n",
      " 5   monoact_code    95032 non-null   float64\n",
      " 6   naf_code        99971 non-null   object \n",
      " 7   legal_code      0 non-null       float64\n",
      " 8   age_months      99954 non-null   float64\n",
      " 9   zipcode         99905 non-null   float64\n",
      " 10  nb_employees    99959 non-null   object \n",
      " 11  paydex          9841 non-null    float64\n",
      " 12  nb_sites        100000 non-null  int64  \n",
      " 13  ind_privilege   100000 non-null  int64  \n",
      " 14  mmd020101       9068 non-null    object \n",
      " 15  mmd0303         1257 non-null    object \n",
      " 16  mmd0402         2154 non-null    object \n",
      " 17  mmd0501         8744 non-null    object \n",
      " 18  bad             100000 non-null  int64  \n",
      " 19  bad_type        1363 non-null    object \n",
      "dtypes: float64(6), int64(4), object(10)\n",
      "memory usage: 16.0+ MB\n"
     ]
    }
   ],
   "source": [
    "dataset.info()"
   ]
  },
  {
   "cell_type": "code",
   "execution_count": 8,
   "id": "3fa21d91-d5ab-41d0-b4cb-50d3921666a4",
   "metadata": {},
   "outputs": [
    {
     "data": {
      "text/plain": [
       "id_firm             0.000\n",
       "activity_index      0.465\n",
       "bonus_a            97.224\n",
       "bonus_c             0.000\n",
       "origin              0.772\n",
       "monoact_code        4.968\n",
       "naf_code            0.029\n",
       "legal_code        100.000\n",
       "age_months          0.046\n",
       "zipcode             0.095\n",
       "nb_employees        0.041\n",
       "paydex             90.159\n",
       "nb_sites            0.000\n",
       "ind_privilege       0.000\n",
       "mmd020101          90.932\n",
       "mmd0303            98.743\n",
       "mmd0402            97.846\n",
       "mmd0501            91.256\n",
       "bad                 0.000\n",
       "bad_type           98.637\n",
       "dtype: float64"
      ]
     },
     "metadata": {},
     "output_type": "display_data"
    }
   ],
   "source": [
    "display(100*dataset.isnull().sum()/dataset.shape[0])\n",
    "# isnull pour calculer le pourcentage des valeurs manquantes"
   ]
  },
  {
   "cell_type": "code",
   "execution_count": 9,
   "id": "d066edd9-644d-4854-9e91-e9af606e67a2",
   "metadata": {},
   "outputs": [
    {
     "data": {
      "text/plain": [
       "0    98637\n",
       "1     1363\n",
       "Name: bad, dtype: int64"
      ]
     },
     "execution_count": 9,
     "metadata": {},
     "output_type": "execute_result"
    }
   ],
   "source": [
    "dataset['bad'].value_counts()\n",
    "# On peut dire qu'il y a 1363 Sociétés qui sont en défaillance on va s'intéresser à ces entreprises \n",
    "# Notre dataset est déséquilibré"
   ]
  },
  {
   "cell_type": "code",
   "execution_count": 10,
   "id": "16305ce6-2b18-42f1-98b7-b1a3184f1900",
   "metadata": {},
   "outputs": [],
   "source": [
    "# Recodage de l'indicateur de défaillance vers une chaine de caractère:\n",
    "dataset['bad']= dataset.bad.apply(lambda x: \"Non défaillance\" if x == 0\n",
    "                                     else \"Défaillance\" if x == 1\n",
    "                                     else \"No data\")"
   ]
  },
  {
   "cell_type": "code",
   "execution_count": 11,
   "id": "9e949373-155b-4917-bb17-0bf589d17b75",
   "metadata": {},
   "outputs": [
    {
     "data": {
      "text/plain": [
       "Non défaillance    98637\n",
       "Défaillance         1363\n",
       "Name: bad, dtype: int64"
      ]
     },
     "execution_count": 11,
     "metadata": {},
     "output_type": "execute_result"
    }
   ],
   "source": [
    "dataset['bad'].value_counts()"
   ]
  },
  {
   "cell_type": "code",
   "execution_count": 12,
   "id": "1b0e96f9-fa08-40ba-9453-7876604304d7",
   "metadata": {},
   "outputs": [
    {
     "data": {
      "text/plain": [
       "Text(0.5, 1.0, 'Répartition des Entreprises en défaillance')"
      ]
     },
     "execution_count": 12,
     "metadata": {},
     "output_type": "execute_result"
    },
    {
     "data": {
      "image/png": "[encoded data removed]",
      "text/plain": [
       "<Figure size 432x288 with 1 Axes>"
      ]
     },
     "metadata": {
      "needs_background": "light"
     },
     "output_type": "display_data"
    }
   ],
   "source": [
    "sns.barplot(data = dataset, x = 'bad',y='id_firm',hue='bad')\n",
    "plt.title(\"Répartition des Entreprises en défaillance\")"
   ]
  },
  {
   "cell_type": "code",
   "execution_count": 13,
   "id": "a3aca18f-8ee2-4427-8f9f-c7aa5226009f",
   "metadata": {},
   "outputs": [],
   "source": [
    "#Pour le features age_months on peut dire que selon le describe il y a des valeurs abérrantes min - 11 mois on peut\n",
    "# faire un boxplot pour mieux le visualiser"
   ]
  },
  {
   "cell_type": "code",
   "execution_count": 14,
   "id": "f7a99349-5155-4552-952c-4ea50c33ab5b",
   "metadata": {},
   "outputs": [
    {
     "data": {
      "image/png": "[encoded data removed]",
      "text/plain": [
       "<Figure size 864x432 with 1 Axes>"
      ]
     },
     "metadata": {
      "needs_background": "light"
     },
     "output_type": "display_data"
    }
   ],
   "source": [
    "plt.figure(figsize=(12,6))\n",
    "sns.boxplot(x=dataset.age_months,whis=7,showmeans=True,\n",
    "            meanline=True)\n",
    "plt.title(\"Age Months Boxplot\")\n",
    "plt.show()\n",
    "# Comme le montre le boxplot la valeur moyenne est au alentour de 95 mois soit 8 ans à peu près, la valeur max est \n",
    "# au alentour de 1351 mois soit 113 ans, on peut considérer les 3 derniers points comme des valeurs abérrantes puisque\n",
    "# l'âge dépasse 99 ans qui est la limite fixée par le code de commerce et on considère aussi la valeur min -11 mois\n",
    "# comme valeur abérrante\n",
    "# Le trait noir c'est la médiane au alentour de 50 mois on a 50% de notre dataset qui ont un age entre 12 et 138 mois\n",
    "# Les limites de la boite sont q1 et q3 qui représentent les quartiles \n",
    "# Les moustaches sont caclulés en fonction de la largeur de cette boite \n",
    "# Le whis nous permet de régler quel est l'outlier qui ne l'est pas "
   ]
  },
  {
   "cell_type": "code",
   "execution_count": 15,
   "id": "0a706acf-cd57-4806-adb4-24102c8e8c5a",
   "metadata": {},
   "outputs": [
    {
     "name": "stderr",
     "output_type": "stream",
     "text": [
      "/opt/conda/lib/python3.9/site-packages/seaborn/distributions.py:2619: FutureWarning:\n",
      "\n",
      "`distplot` is a deprecated function and will be removed in a future version. Please adapt your code to use either `displot` (a figure-level function with similar flexibility) or `histplot` (an axes-level function for histograms).\n",
      "\n"
     ]
    },
    {
     "data": {
      "text/plain": [
       "<AxesSubplot:xlabel='age_months', ylabel='Density'>"
      ]
     },
     "execution_count": 15,
     "metadata": {},
     "output_type": "execute_result"
    },
    {
     "data": {
      "image/png": "[encoded data removed]",
      "text/plain": [
       "<Figure size 432x288 with 1 Axes>"
      ]
     },
     "metadata": {
      "needs_background": "light"
     },
     "output_type": "display_data"
    }
   ],
   "source": [
    "sns.distplot(dataset['age_months'],kde=True,bins=50)\n",
    "# la courbe représente la densité de probabilité de ma vble age_months "
   ]
  },
  {
   "cell_type": "code",
   "execution_count": 16,
   "id": "43bd9b2e-3afc-4f4f-bb2a-0c6f385b9841",
   "metadata": {},
   "outputs": [
    {
     "data": {
      "text/plain": [
       "LJ    1207\n",
       "RJ     140\n",
       "PS      16\n",
       "Name: bad_type, dtype: int64"
      ]
     },
     "execution_count": 16,
     "metadata": {},
     "output_type": "execute_result"
    }
   ],
   "source": [
    "dataset['bad_type'].value_counts()\n",
    "# Parmi c'est 1363 Entreprise qui sont en défaillance on 1207 qui sont en LJ .. "
   ]
  },
  {
   "cell_type": "code",
   "execution_count": 17,
   "id": "31de87d2-3cb6-4e8f-8d86-7cb73f7c0d24",
   "metadata": {},
   "outputs": [
    {
     "data": {
      "image/png": "[encoded data removed]",
      "text/plain": [
       "<Figure size 576x432 with 1 Axes>"
      ]
     },
     "metadata": {},
     "output_type": "display_data"
    }
   ],
   "source": [
    "type_defaillance= dataset.bad_type.value_counts()\n",
    "plt.figure(figsize = (8, 6))\n",
    "plt.pie(type_defaillance, autopct='%1.1f%%', shadow=True, startangle=35, radius=1.2)\n",
    "plt.legend(type_defaillance.index, loc='lower right')\n",
    "plt.title(\"Répartion des entreprises qui sont en défaillance par type\")\n",
    "plt.show()"
   ]
  },
  {
   "cell_type": "code",
   "execution_count": 18,
   "id": "217bd0da-71db-40f8-bb12-31b7d12b1e67",
   "metadata": {},
   "outputs": [],
   "source": [
    "type_defaillance=dataset.groupby(['bad_type','bad'])"
   ]
  },
  {
   "cell_type": "code",
   "execution_count": 19,
   "id": "a55f00fd-8375-4a24-ba99-912583c5e723",
   "metadata": {},
   "outputs": [
    {
     "data": {
      "text/html": [
       "<div>\n",
       "<style scoped>\n",
       "    .dataframe tbody tr th:only-of-type {\n",
       "        vertical-align: middle;\n",
       "    }\n",
       "\n",
       "    .dataframe tbody tr th {\n",
       "        vertical-align: top;\n",
       "    }\n",
       "\n",
       "    .dataframe thead th {\n",
       "        text-align: right;\n",
       "    }\n",
       "</style>\n",
       "<table border=\"1\" class=\"dataframe\">\n",
       "  <thead>\n",
       "    <tr style=\"text-align: right;\">\n",
       "      <th></th>\n",
       "      <th>id_firm</th>\n",
       "      <th>activity_index</th>\n",
       "      <th>bonus_a</th>\n",
       "      <th>bonus_c</th>\n",
       "      <th>origin</th>\n",
       "      <th>monoact_code</th>\n",
       "      <th>naf_code</th>\n",
       "      <th>legal_code</th>\n",
       "      <th>age_months</th>\n",
       "      <th>zipcode</th>\n",
       "      <th>nb_employees</th>\n",
       "      <th>paydex</th>\n",
       "      <th>nb_sites</th>\n",
       "      <th>ind_privilege</th>\n",
       "      <th>mmd020101</th>\n",
       "      <th>mmd0303</th>\n",
       "      <th>mmd0402</th>\n",
       "      <th>mmd0501</th>\n",
       "      <th>bad</th>\n",
       "      <th>bad_type</th>\n",
       "    </tr>\n",
       "  </thead>\n",
       "  <tbody>\n",
       "    <tr>\n",
       "      <th>1348</th>\n",
       "      <td>502582</td>\n",
       "      <td>15.0</td>\n",
       "      <td>NaN</td>\n",
       "      <td>C5</td>\n",
       "      <td>1</td>\n",
       "      <td>1.0</td>\n",
       "      <td>5911A</td>\n",
       "      <td>NaN</td>\n",
       "      <td>461.0</td>\n",
       "      <td>75.0</td>\n",
       "      <td>03</td>\n",
       "      <td>NaN</td>\n",
       "      <td>1</td>\n",
       "      <td>0</td>\n",
       "      <td>NaN</td>\n",
       "      <td>MMD0303_24_60</td>\n",
       "      <td>NaN</td>\n",
       "      <td>NaN</td>\n",
       "      <td>Défaillance</td>\n",
       "      <td>PS</td>\n",
       "    </tr>\n",
       "    <tr>\n",
       "      <th>1349</th>\n",
       "      <td>654461</td>\n",
       "      <td>31.0</td>\n",
       "      <td>NaN</td>\n",
       "      <td>C1</td>\n",
       "      <td>9</td>\n",
       "      <td>1.0</td>\n",
       "      <td>4334Z</td>\n",
       "      <td>NaN</td>\n",
       "      <td>435.0</td>\n",
       "      <td>68.0</td>\n",
       "      <td>12</td>\n",
       "      <td>72.0</td>\n",
       "      <td>1</td>\n",
       "      <td>0</td>\n",
       "      <td>MMD020101_24_60</td>\n",
       "      <td>NaN</td>\n",
       "      <td>NaN</td>\n",
       "      <td>NaN</td>\n",
       "      <td>Défaillance</td>\n",
       "      <td>PS</td>\n",
       "    </tr>\n",
       "    <tr>\n",
       "      <th>1350</th>\n",
       "      <td>1070585</td>\n",
       "      <td>31.0</td>\n",
       "      <td>NaN</td>\n",
       "      <td>C2</td>\n",
       "      <td>1</td>\n",
       "      <td>1.0</td>\n",
       "      <td>8219Z</td>\n",
       "      <td>NaN</td>\n",
       "      <td>388.0</td>\n",
       "      <td>76.0</td>\n",
       "      <td>11</td>\n",
       "      <td>67.0</td>\n",
       "      <td>1</td>\n",
       "      <td>0</td>\n",
       "      <td>NaN</td>\n",
       "      <td>NaN</td>\n",
       "      <td>NaN</td>\n",
       "      <td>NaN</td>\n",
       "      <td>Défaillance</td>\n",
       "      <td>PS</td>\n",
       "    </tr>\n",
       "    <tr>\n",
       "      <th>1351</th>\n",
       "      <td>1304332</td>\n",
       "      <td>23.0</td>\n",
       "      <td>NaN</td>\n",
       "      <td>C2</td>\n",
       "      <td>1</td>\n",
       "      <td>1.0</td>\n",
       "      <td>4762Z</td>\n",
       "      <td>NaN</td>\n",
       "      <td>771.0</td>\n",
       "      <td>76.0</td>\n",
       "      <td>02</td>\n",
       "      <td>45.0</td>\n",
       "      <td>1</td>\n",
       "      <td>0</td>\n",
       "      <td>NaN</td>\n",
       "      <td>NaN</td>\n",
       "      <td>NaN</td>\n",
       "      <td>NaN</td>\n",
       "      <td>Défaillance</td>\n",
       "      <td>PS</td>\n",
       "    </tr>\n",
       "    <tr>\n",
       "      <th>1352</th>\n",
       "      <td>1344935</td>\n",
       "      <td>22.0</td>\n",
       "      <td>NaN</td>\n",
       "      <td>C5</td>\n",
       "      <td>9</td>\n",
       "      <td>1.0</td>\n",
       "      <td>5814Z</td>\n",
       "      <td>NaN</td>\n",
       "      <td>362.0</td>\n",
       "      <td>75.0</td>\n",
       "      <td>03</td>\n",
       "      <td>NaN</td>\n",
       "      <td>1</td>\n",
       "      <td>0</td>\n",
       "      <td>NaN</td>\n",
       "      <td>NaN</td>\n",
       "      <td>NaN</td>\n",
       "      <td>NaN</td>\n",
       "      <td>Défaillance</td>\n",
       "      <td>PS</td>\n",
       "    </tr>\n",
       "    <tr>\n",
       "      <th>1353</th>\n",
       "      <td>1439002</td>\n",
       "      <td>32.0</td>\n",
       "      <td>NaN</td>\n",
       "      <td>C6</td>\n",
       "      <td>1</td>\n",
       "      <td>1.0</td>\n",
       "      <td>1013A</td>\n",
       "      <td>NaN</td>\n",
       "      <td>365.0</td>\n",
       "      <td>47.0</td>\n",
       "      <td>11</td>\n",
       "      <td>60.0</td>\n",
       "      <td>1</td>\n",
       "      <td>0</td>\n",
       "      <td>MMD020101_24_60</td>\n",
       "      <td>NaN</td>\n",
       "      <td>NaN</td>\n",
       "      <td>NaN</td>\n",
       "      <td>Défaillance</td>\n",
       "      <td>PS</td>\n",
       "    </tr>\n",
       "    <tr>\n",
       "      <th>1354</th>\n",
       "      <td>1527611</td>\n",
       "      <td>34.0</td>\n",
       "      <td>A4</td>\n",
       "      <td>C5</td>\n",
       "      <td>9</td>\n",
       "      <td>1.0</td>\n",
       "      <td>5621Z</td>\n",
       "      <td>NaN</td>\n",
       "      <td>358.0</td>\n",
       "      <td>93.0</td>\n",
       "      <td>22</td>\n",
       "      <td>65.0</td>\n",
       "      <td>1</td>\n",
       "      <td>0</td>\n",
       "      <td>MMD020101_24_60</td>\n",
       "      <td>NaN</td>\n",
       "      <td>NaN</td>\n",
       "      <td>MMD0501_12_35</td>\n",
       "      <td>Défaillance</td>\n",
       "      <td>PS</td>\n",
       "    </tr>\n",
       "    <tr>\n",
       "      <th>1355</th>\n",
       "      <td>1674154</td>\n",
       "      <td>34.0</td>\n",
       "      <td>NaN</td>\n",
       "      <td>C1</td>\n",
       "      <td>9</td>\n",
       "      <td>1.0</td>\n",
       "      <td>4321A</td>\n",
       "      <td>NaN</td>\n",
       "      <td>687.0</td>\n",
       "      <td>5.0</td>\n",
       "      <td>21</td>\n",
       "      <td>80.0</td>\n",
       "      <td>1</td>\n",
       "      <td>0</td>\n",
       "      <td>NaN</td>\n",
       "      <td>NaN</td>\n",
       "      <td>NaN</td>\n",
       "      <td>NaN</td>\n",
       "      <td>Défaillance</td>\n",
       "      <td>PS</td>\n",
       "    </tr>\n",
       "    <tr>\n",
       "      <th>1356</th>\n",
       "      <td>1703708</td>\n",
       "      <td>34.0</td>\n",
       "      <td>NaN</td>\n",
       "      <td>C1</td>\n",
       "      <td>1</td>\n",
       "      <td>1.0</td>\n",
       "      <td>5510Z</td>\n",
       "      <td>NaN</td>\n",
       "      <td>349.0</td>\n",
       "      <td>75.0</td>\n",
       "      <td>32</td>\n",
       "      <td>21.0</td>\n",
       "      <td>22</td>\n",
       "      <td>0</td>\n",
       "      <td>MMD020101_24_60</td>\n",
       "      <td>MMD0303_12_23</td>\n",
       "      <td>NaN</td>\n",
       "      <td>NaN</td>\n",
       "      <td>Défaillance</td>\n",
       "      <td>PS</td>\n",
       "    </tr>\n",
       "    <tr>\n",
       "      <th>1357</th>\n",
       "      <td>1814686</td>\n",
       "      <td>28.0</td>\n",
       "      <td>NaN</td>\n",
       "      <td>C6</td>\n",
       "      <td>9</td>\n",
       "      <td>1.0</td>\n",
       "      <td>5811Z</td>\n",
       "      <td>NaN</td>\n",
       "      <td>336.0</td>\n",
       "      <td>45.0</td>\n",
       "      <td>11</td>\n",
       "      <td>80.0</td>\n",
       "      <td>1</td>\n",
       "      <td>0</td>\n",
       "      <td>NaN</td>\n",
       "      <td>NaN</td>\n",
       "      <td>NaN</td>\n",
       "      <td>NaN</td>\n",
       "      <td>Défaillance</td>\n",
       "      <td>PS</td>\n",
       "    </tr>\n",
       "    <tr>\n",
       "      <th>1358</th>\n",
       "      <td>2486192</td>\n",
       "      <td>24.0</td>\n",
       "      <td>NaN</td>\n",
       "      <td>C5</td>\n",
       "      <td>1</td>\n",
       "      <td>1.0</td>\n",
       "      <td>4642Z</td>\n",
       "      <td>NaN</td>\n",
       "      <td>289.0</td>\n",
       "      <td>22.0</td>\n",
       "      <td>02</td>\n",
       "      <td>1.0</td>\n",
       "      <td>2</td>\n",
       "      <td>0</td>\n",
       "      <td>NaN</td>\n",
       "      <td>NaN</td>\n",
       "      <td>NaN</td>\n",
       "      <td>NaN</td>\n",
       "      <td>Défaillance</td>\n",
       "      <td>PS</td>\n",
       "    </tr>\n",
       "    <tr>\n",
       "      <th>1359</th>\n",
       "      <td>2486330</td>\n",
       "      <td>33.0</td>\n",
       "      <td>NaN</td>\n",
       "      <td>C5</td>\n",
       "      <td>9</td>\n",
       "      <td>1.0</td>\n",
       "      <td>4619B</td>\n",
       "      <td>NaN</td>\n",
       "      <td>293.0</td>\n",
       "      <td>75.0</td>\n",
       "      <td>11</td>\n",
       "      <td>60.0</td>\n",
       "      <td>2</td>\n",
       "      <td>0</td>\n",
       "      <td>MMD020101_12_23</td>\n",
       "      <td>NaN</td>\n",
       "      <td>NaN</td>\n",
       "      <td>NaN</td>\n",
       "      <td>Défaillance</td>\n",
       "      <td>PS</td>\n",
       "    </tr>\n",
       "    <tr>\n",
       "      <th>1360</th>\n",
       "      <td>2728747</td>\n",
       "      <td>21.0</td>\n",
       "      <td>NaN</td>\n",
       "      <td>C11</td>\n",
       "      <td>9</td>\n",
       "      <td>1.0</td>\n",
       "      <td>6910Z</td>\n",
       "      <td>NaN</td>\n",
       "      <td>272.0</td>\n",
       "      <td>33.0</td>\n",
       "      <td>00</td>\n",
       "      <td>NaN</td>\n",
       "      <td>2</td>\n",
       "      <td>0</td>\n",
       "      <td>NaN</td>\n",
       "      <td>NaN</td>\n",
       "      <td>NaN</td>\n",
       "      <td>NaN</td>\n",
       "      <td>Défaillance</td>\n",
       "      <td>PS</td>\n",
       "    </tr>\n",
       "    <tr>\n",
       "      <th>1361</th>\n",
       "      <td>2804065</td>\n",
       "      <td>16.0</td>\n",
       "      <td>NaN</td>\n",
       "      <td>C5</td>\n",
       "      <td>1</td>\n",
       "      <td>1.0</td>\n",
       "      <td>5210B</td>\n",
       "      <td>NaN</td>\n",
       "      <td>269.0</td>\n",
       "      <td>95.0</td>\n",
       "      <td>03</td>\n",
       "      <td>NaN</td>\n",
       "      <td>1</td>\n",
       "      <td>0</td>\n",
       "      <td>MMD020101_24_60</td>\n",
       "      <td>NaN</td>\n",
       "      <td>NaN</td>\n",
       "      <td>NaN</td>\n",
       "      <td>Défaillance</td>\n",
       "      <td>PS</td>\n",
       "    </tr>\n",
       "    <tr>\n",
       "      <th>1362</th>\n",
       "      <td>2982622</td>\n",
       "      <td>13.0</td>\n",
       "      <td>NaN</td>\n",
       "      <td>C11</td>\n",
       "      <td>1</td>\n",
       "      <td>1.0</td>\n",
       "      <td>8551Z</td>\n",
       "      <td>NaN</td>\n",
       "      <td>259.0</td>\n",
       "      <td>974.0</td>\n",
       "      <td>02</td>\n",
       "      <td>NaN</td>\n",
       "      <td>1</td>\n",
       "      <td>0</td>\n",
       "      <td>MMD020101_24_60</td>\n",
       "      <td>NaN</td>\n",
       "      <td>NaN</td>\n",
       "      <td>NaN</td>\n",
       "      <td>Défaillance</td>\n",
       "      <td>PS</td>\n",
       "    </tr>\n",
       "    <tr>\n",
       "      <th>1363</th>\n",
       "      <td>3106409</td>\n",
       "      <td>35.0</td>\n",
       "      <td>NaN</td>\n",
       "      <td>C1</td>\n",
       "      <td>1</td>\n",
       "      <td>1.0</td>\n",
       "      <td>2223Z</td>\n",
       "      <td>NaN</td>\n",
       "      <td>260.0</td>\n",
       "      <td>17.0</td>\n",
       "      <td>12</td>\n",
       "      <td>67.0</td>\n",
       "      <td>2</td>\n",
       "      <td>0</td>\n",
       "      <td>MMD020101_24_60</td>\n",
       "      <td>NaN</td>\n",
       "      <td>NaN</td>\n",
       "      <td>NaN</td>\n",
       "      <td>Défaillance</td>\n",
       "      <td>PS</td>\n",
       "    </tr>\n",
       "  </tbody>\n",
       "</table>\n",
       "</div>"
      ],
      "text/plain": [
       "      id_firm  activity_index bonus_a bonus_c origin  monoact_code naf_code  \\\n",
       "1348   502582            15.0     NaN      C5      1           1.0    5911A   \n",
       "1349   654461            31.0     NaN      C1      9           1.0    4334Z   \n",
       "1350  1070585            31.0     NaN      C2      1           1.0    8219Z   \n",
       "1351  1304332            23.0     NaN      C2      1           1.0    4762Z   \n",
       "1352  1344935            22.0     NaN      C5      9           1.0    5814Z   \n",
       "1353  1439002            32.0     NaN      C6      1           1.0    1013A   \n",
       "1354  1527611            34.0      A4      C5      9           1.0    5621Z   \n",
       "1355  1674154            34.0     NaN      C1      9           1.0    4321A   \n",
       "1356  1703708            34.0     NaN      C1      1           1.0    5510Z   \n",
       "1357  1814686            28.0     NaN      C6      9           1.0    5811Z   \n",
       "1358  2486192            24.0     NaN      C5      1           1.0    4642Z   \n",
       "1359  2486330            33.0     NaN      C5      9           1.0    4619B   \n",
       "1360  2728747            21.0     NaN     C11      9           1.0    6910Z   \n",
       "1361  2804065            16.0     NaN      C5      1           1.0    5210B   \n",
       "1362  2982622            13.0     NaN     C11      1           1.0    8551Z   \n",
       "1363  3106409            35.0     NaN      C1      1           1.0    2223Z   \n",
       "\n",
       "      legal_code  age_months  zipcode nb_employees  paydex  nb_sites  \\\n",
       "1348         NaN       461.0     75.0           03     NaN         1   \n",
       "1349         NaN       435.0     68.0           12    72.0         1   \n",
       "1350         NaN       388.0     76.0           11    67.0         1   \n",
       "1351         NaN       771.0     76.0           02    45.0         1   \n",
       "1352         NaN       362.0     75.0           03     NaN         1   \n",
       "1353         NaN       365.0     47.0           11    60.0         1   \n",
       "1354         NaN       358.0     93.0           22    65.0         1   \n",
       "1355         NaN       687.0      5.0           21    80.0         1   \n",
       "1356         NaN       349.0     75.0           32    21.0        22   \n",
       "1357         NaN       336.0     45.0           11    80.0         1   \n",
       "1358         NaN       289.0     22.0           02     1.0         2   \n",
       "1359         NaN       293.0     75.0           11    60.0         2   \n",
       "1360         NaN       272.0     33.0           00     NaN         2   \n",
       "1361         NaN       269.0     95.0           03     NaN         1   \n",
       "1362         NaN       259.0    974.0           02     NaN         1   \n",
       "1363         NaN       260.0     17.0           12    67.0         2   \n",
       "\n",
       "      ind_privilege        mmd020101        mmd0303 mmd0402        mmd0501  \\\n",
       "1348              0              NaN  MMD0303_24_60     NaN            NaN   \n",
       "1349              0  MMD020101_24_60            NaN     NaN            NaN   \n",
       "1350              0              NaN            NaN     NaN            NaN   \n",
       "1351              0              NaN            NaN     NaN            NaN   \n",
       "1352              0              NaN            NaN     NaN            NaN   \n",
       "1353              0  MMD020101_24_60            NaN     NaN            NaN   \n",
       "1354              0  MMD020101_24_60            NaN     NaN  MMD0501_12_35   \n",
       "1355              0              NaN            NaN     NaN            NaN   \n",
       "1356              0  MMD020101_24_60  MMD0303_12_23     NaN            NaN   \n",
       "1357              0              NaN            NaN     NaN            NaN   \n",
       "1358              0              NaN            NaN     NaN            NaN   \n",
       "1359              0  MMD020101_12_23            NaN     NaN            NaN   \n",
       "1360              0              NaN            NaN     NaN            NaN   \n",
       "1361              0  MMD020101_24_60            NaN     NaN            NaN   \n",
       "1362              0  MMD020101_24_60            NaN     NaN            NaN   \n",
       "1363              0  MMD020101_24_60            NaN     NaN            NaN   \n",
       "\n",
       "              bad bad_type  \n",
       "1348  Défaillance       PS  \n",
       "1349  Défaillance       PS  \n",
       "1350  Défaillance       PS  \n",
       "1351  Défaillance       PS  \n",
       "1352  Défaillance       PS  \n",
       "1353  Défaillance       PS  \n",
       "1354  Défaillance       PS  \n",
       "1355  Défaillance       PS  \n",
       "1356  Défaillance       PS  \n",
       "1357  Défaillance       PS  \n",
       "1358  Défaillance       PS  \n",
       "1359  Défaillance       PS  \n",
       "1360  Défaillance       PS  \n",
       "1361  Défaillance       PS  \n",
       "1362  Défaillance       PS  \n",
       "1363  Défaillance       PS  "
      ]
     },
     "execution_count": 19,
     "metadata": {},
     "output_type": "execute_result"
    }
   ],
   "source": [
    "type_defaillance.get_group(('PS','Défaillance'))\n",
    "# J'ai pu vérifier que les sociétés qui sont en défaillance sont les mm qui sont en RJ, LJ et PS"
   ]
  },
  {
   "cell_type": "code",
   "execution_count": 20,
   "id": "aef2890f-91bc-4986-a6e0-47a8a9354623",
   "metadata": {},
   "outputs": [
    {
     "data": {
      "text/plain": [
       "A4      2338\n",
       "A2       170\n",
       "A1       122\n",
       "A3       120\n",
       "A3.5      26\n",
       "Name: bonus_a, dtype: int64"
      ]
     },
     "execution_count": 20,
     "metadata": {},
     "output_type": "execute_result"
    }
   ],
   "source": [
    "dataset['bonus_a'].value_counts()\n",
    "#A1= 122 Actionnaire majoritaire en défaillance, A2 = 170 Actionnaire majoritaire avec grande solidité financière, \n",
    "#A3 = 120 Actionnaire majoritaire avec solidité financière,A3.5 = 26 Filiale en défaillance, \n",
    "#A4 = 2338 Présence d'un actionnaire majoritaire ni défaillant ni solide\n"
   ]
  },
  {
   "cell_type": "code",
   "execution_count": 21,
   "id": "681c2f90-32ca-4a56-8d0a-377f7240eaee",
   "metadata": {},
   "outputs": [],
   "source": [
    "# Recodage de bonus_a vers une chaine de caractère:\n",
    "dataset['bonus_a']= dataset.bonus_a.apply(lambda x: \"Actionnaire majoritaire en défaillance\" if x == \"A1\"\n",
    "                                     else \"Actionnaire majoritaire avec grande solidité financière\" if x == \"A2\"\n",
    "                                     else \"Actionnaire majoritaire avec solidité financière\" if x == \"A3\"\n",
    "                                     else \"Filiale en défaillance\" if x == \"A3.5\"\n",
    "                                     else \"Présence d'un actionnaire majoritaire ni défaillant ni solide\" if x == \"A4\"\n",
    "                                     else \"unspecified\")"
   ]
  },
  {
   "cell_type": "code",
   "execution_count": 22,
   "id": "28306498-259f-48af-9f25-b932c1ac0107",
   "metadata": {},
   "outputs": [
    {
     "data": {
      "text/plain": [
       "unspecified                                                      97224\n",
       "Présence d'un actionnaire majoritaire ni défaillant ni solide     2338\n",
       "Actionnaire majoritaire avec grande solidité financière            170\n",
       "Actionnaire majoritaire en défaillance                             122\n",
       "Actionnaire majoritaire avec solidité financière                   120\n",
       "Filiale en défaillance                                              26\n",
       "Name: bonus_a, dtype: int64"
      ]
     },
     "execution_count": 22,
     "metadata": {},
     "output_type": "execute_result"
    }
   ],
   "source": [
    "dataset['bonus_a'].value_counts()"
   ]
  },
  {
   "cell_type": "code",
   "execution_count": 23,
   "id": "52094dce-63f4-4336-8129-91e75a592aee",
   "metadata": {},
   "outputs": [
    {
     "data": {
      "image/png": "[encoded data removed]",
      "text/plain": [
       "<Figure size 576x432 with 1 Axes>"
      ]
     },
     "metadata": {},
     "output_type": "display_data"
    }
   ],
   "source": [
    "bonus_a= dataset.bonus_a.value_counts()[1:6]\n",
    "plt.figure(figsize = (8,6))\n",
    "plt.pie(bonus_a, autopct='%1.1f%%', shadow=True, startangle=35, radius=1.2)\n",
    "plt.legend(bonus_a.index, loc='lower right')\n",
    "plt.title(\"Indicateurs d'actionnariat\")\n",
    "plt.show()\n",
    "# on doit se soucier des actionnaires majoritaires en défaillance et des filiales en défaillance car elles peuvent impacter leurs filiales"
   ]
  },
  {
   "cell_type": "code",
   "execution_count": 24,
   "id": "5d457b22-f425-47e3-b11f-5f7d5a2d7929",
   "metadata": {},
   "outputs": [],
   "source": [
    "type_actionnariat=dataset.groupby(['bonus_a','bad'])"
   ]
  },
  {
   "cell_type": "code",
   "execution_count": 25,
   "id": "150449d7-1f6f-4786-aec1-fbcf329de34a",
   "metadata": {},
   "outputs": [
    {
     "data": {
      "text/plain": [
       "(22, 20)"
      ]
     },
     "execution_count": 25,
     "metadata": {},
     "output_type": "execute_result"
    }
   ],
   "source": [
    "data=type_actionnariat.get_group(('Filiale en défaillance','Non défaillance'))\n",
    "data.shape"
   ]
  },
  {
   "cell_type": "code",
   "execution_count": 26,
   "id": "47b20d40-551b-4208-bb51-953a365bf7b7",
   "metadata": {},
   "outputs": [],
   "source": [
    "actionnaire_m_defaillant=dataset['bonus_a'].value_counts()[3]\n",
    "n_defaillance=dataset[\"bad\"].value_counts()[0]\n",
    "defaillance=dataset[\"bad\"].value_counts()[1]"
   ]
  },
  {
   "cell_type": "code",
   "execution_count": 27,
   "id": "883ff7be-34e8-4a29-821d-964a0e78f6fd",
   "metadata": {},
   "outputs": [],
   "source": [
    "filiale_defaillante=dataset['bonus_a'].value_counts()[5]\n"
   ]
  },
  {
   "cell_type": "code",
   "execution_count": 28,
   "id": "8d3c994e-6d20-47da-9811-b800f1b66da4",
   "metadata": {},
   "outputs": [
    {
     "name": "stdout",
     "output_type": "stream",
     "text": [
      "Rapports\n",
      " [0.0012368583797155227, 0.08950843727072634]\n"
     ]
    }
   ],
   "source": [
    "risque_inconuu = actionnaire_m_defaillant / n_defaillance\n",
    "risque_connu =actionnaire_m_defaillant/ defaillance\n",
    "data = [risque_inconuu, risque_connu]\n",
    "print(\"Rapports\\n {}\".format(data))"
   ]
  },
  {
   "cell_type": "code",
   "execution_count": 29,
   "id": "31dd8e54-4a2f-454f-993d-03585bb8d919",
   "metadata": {},
   "outputs": [],
   "source": [
    "data_actifs = np.array([1,1]) - data"
   ]
  },
  {
   "cell_type": "code",
   "execution_count": 30,
   "id": "3a19af44-bf15-4d73-a2e8-4246e141e95a",
   "metadata": {},
   "outputs": [],
   "source": [
    "legend = [\"actionnaire_m_def/ n_defaillance\", \"actionnaire_m_def/defaillance\"]"
   ]
  },
  {
   "cell_type": "code",
   "execution_count": 31,
   "id": "eb551eea-7cd4-408c-8bc5-5f5e173a03c0",
   "metadata": {},
   "outputs": [
    {
     "data": {
      "image/png": "[encoded data removed]",
      "text/plain": [
       "<Figure size 432x288 with 1 Axes>"
      ]
     },
     "metadata": {
      "needs_background": "light"
     },
     "output_type": "display_data"
    }
   ],
   "source": [
    "plt.figure()\n",
    "\n",
    "plt.bar(legend, \n",
    "         data,\n",
    "        label=\"Alerte\")\n",
    "\n",
    "plt.bar(legend,\n",
    "        data_actifs, \n",
    "        bottom=data,\n",
    "        label=\"Pas d'alerte\")\n",
    "\n",
    "plt.text(legend[0], 0.6, np.round(data_actifs[0],2), ha = \"center\", va = \"center\")\n",
    "plt.text(legend[0], 0.05, np.round(data[0],2), ha = \"center\", va = \"center\")\n",
    "\n",
    "plt.text(legend[1], 0.6, np.round(data_actifs[1],2), ha = \"center\", va = \"center\")\n",
    "plt.text(legend[1], 0.025, np.round(data[1],2), ha = \"center\", va = \"center\")\n",
    "\n",
    "plt.legend()\n",
    "plt.title(\"Répartition des actionnaires majoritaires défaillant sur les entreprises non défaillantes et défaillantes\")\n",
    "\n",
    "plt.show()"
   ]
  },
  {
   "cell_type": "code",
   "execution_count": 32,
   "id": "e5bcf167-8839-4ee5-b03a-40257067d152",
   "metadata": {},
   "outputs": [
    {
     "data": {
      "text/plain": [
       "C11    35921\n",
       "C12    34107\n",
       "C6      8497\n",
       "C5      6394\n",
       "C1      6186\n",
       "C2      2634\n",
       "C7      2144\n",
       "C3      1511\n",
       "C4      1271\n",
       "C8       815\n",
       "C9       381\n",
       "C13       80\n",
       "C10       59\n",
       "Name: bonus_c, dtype: int64"
      ]
     },
     "execution_count": 32,
     "metadata": {},
     "output_type": "execute_result"
    }
   ],
   "source": [
    "dataset['bonus_c'].value_counts()"
   ]
  },
  {
   "cell_type": "code",
   "execution_count": 33,
   "id": "78133ed8-7eb9-4aa7-9526-ba0c6a6dd7f8",
   "metadata": {},
   "outputs": [],
   "source": [
    "#dataset['activity_index'].value_counts()"
   ]
  },
  {
   "cell_type": "code",
   "execution_count": 34,
   "id": "f4b438d9-4b62-4e52-9498-58f4bff7ebed",
   "metadata": {},
   "outputs": [
    {
     "data": {
      "text/plain": [
       "1     89724\n",
       "3      3974\n",
       "9      2812\n",
       "NR     1096\n",
       "6      1013\n",
       "4       416\n",
       "C        99\n",
       "8        73\n",
       "D        11\n",
       "F         5\n",
       "5         4\n",
       "7         1\n",
       "Name: origin, dtype: int64"
      ]
     },
     "execution_count": 34,
     "metadata": {},
     "output_type": "execute_result"
    }
   ],
   "source": [
    "dataset['origin'].value_counts()"
   ]
  },
  {
   "cell_type": "code",
   "execution_count": 35,
   "id": "74d7a0e3-8822-4313-9809-bfc399b3938c",
   "metadata": {},
   "outputs": [
    {
     "data": {
      "text/plain": [
       "7022Z    5593\n",
       "6420Z    3468\n",
       "5610A    3373\n",
       "5610C    3274\n",
       "6820B    2334\n",
       "Name: naf_code, dtype: int64"
      ]
     },
     "execution_count": 35,
     "metadata": {},
     "output_type": "execute_result"
    }
   ],
   "source": [
    "dataset.naf_code.value_counts()[:5]"
   ]
  },
  {
   "cell_type": "code",
   "execution_count": 36,
   "id": "f6f279e4-8337-4c08-8644-2bd29e1b976e",
   "metadata": {},
   "outputs": [],
   "source": [
    "# Recodage du code NAF vers une chaine de caractère:\n",
    "dataset['naf_code']= dataset.naf_code.apply(lambda x: \"Conseil pour les affaires et autres conseils de gestion\" if x == \"7022Z\"\n",
    "                                     else \"Activités des sociétés holding\" if x == \"6420Z\"\n",
    "                                     else \"Restauration traditionnelle\" if x == \"5610A\"\n",
    "                                     else \"Restauration de type rapide\" if x == \"5610C\"\n",
    "                                     else \"Location de terrains et d'autres biens immobiliers\" if x == \"6820B\"\n",
    "                                     else \"the rest of data\")"
   ]
  },
  {
   "cell_type": "code",
   "execution_count": 37,
   "id": "29b2cf05-0b69-421b-8a30-0eeb3ae46e82",
   "metadata": {},
   "outputs": [
    {
     "data": {
      "text/plain": [
       "the rest of data                                           81958\n",
       "Conseil pour les affaires et autres conseils de gestion     5593\n",
       "Activités des sociétés holding                              3468\n",
       "Restauration traditionnelle                                 3373\n",
       "Restauration de type rapide                                 3274\n",
       "Location de terrains et d'autres biens immobiliers          2334\n",
       "Name: naf_code, dtype: int64"
      ]
     },
     "execution_count": 37,
     "metadata": {},
     "output_type": "execute_result"
    }
   ],
   "source": [
    "dataset['naf_code'].value_counts()"
   ]
  },
  {
   "cell_type": "code",
   "execution_count": 38,
   "id": "6d2def5a-f877-4aa0-8973-2373a6520e24",
   "metadata": {},
   "outputs": [
    {
     "data": {
      "text/plain": [
       "Text(0.5, 1.0, 'Les 5 secteurs les plus importants chez Alatres ')"
      ]
     },
     "execution_count": 38,
     "metadata": {},
     "output_type": "execute_result"
    },
    {
     "data": {
      "image/png": "[encoded data removed]",
      "text/plain": [
       "<Figure size 432x288 with 1 Axes>"
      ]
     },
     "metadata": {
      "needs_background": "light"
     },
     "output_type": "display_data"
    }
   ],
   "source": [
    "chart = sns.countplot(data= dataset, x='naf_code', order = dataset['naf_code'].value_counts()[1:6].index)\n",
    "chart.set_xticklabels(chart.get_xticklabels(), rotation=45, horizontalalignment='right', \n",
    "                      fontweight='light', fontsize='x-large')\n",
    "plt.title(\"Les 5 secteurs les plus importants chez Alatres \", fontsize=20)"
   ]
  },
  {
   "cell_type": "code",
   "execution_count": 39,
   "id": "a82ba67f-b651-4ac6-859e-9fb96e164528",
   "metadata": {},
   "outputs": [
    {
     "data": {
      "text/plain": [
       "0    99904\n",
       "1       77\n",
       "2       16\n",
       "3        3\n",
       "Name: ind_privilege, dtype: int64"
      ]
     },
     "execution_count": 39,
     "metadata": {},
     "output_type": "execute_result"
    }
   ],
   "source": [
    "dataset['ind_privilege'].value_counts()"
   ]
  },
  {
   "cell_type": "markdown",
   "id": "33257850-6ce9-49f0-89bb-726dc78b6263",
   "metadata": {},
   "source": [
    "Privilège : c’est l’Etat qui se met en  situation de privilège si l’entreprise dépose son bilan et donc être le premier à être payé sur\n",
    "les actifs de cette entreprise, un privilège trésor public c’est qd il y a un litige entre l’Etat et l’entreprise ou privilège ursaf ou \n",
    "caisse complémentaire c’est un signal négatif puisque l’entreprise ne peut plus payer ses charges sociales ça montre que l’entreprise\n",
    "va être bientôt en cessation de paiement donc la prédictivité du risque de défaillance est encore plus fort"
   ]
  },
  {
   "cell_type": "code",
   "execution_count": 40,
   "id": "b2f72924-e8b3-4fc3-8d2f-712480a956de",
   "metadata": {},
   "outputs": [],
   "source": [
    "dataset['ind_privilege']= dataset.ind_privilege.apply(lambda x: \"Pas d'inscription privilège\" if x == 0\n",
    "                                     else \"Privilèges TP\" if x == 1\n",
    "                                     else \"Privilèges URSSAF\" if x == 2\n",
    "                                     else \"Privilèges CC\" if x == 3\n",
    "                                     else \"No data\")"
   ]
  },
  {
   "cell_type": "code",
   "execution_count": 41,
   "id": "a774cfea-17ca-4888-bcc3-d387e109e363",
   "metadata": {},
   "outputs": [
    {
     "data": {
      "text/plain": [
       "Pas d'inscription privilège    99904\n",
       "Privilèges TP                     77\n",
       "Privilèges URSSAF                 16\n",
       "Privilèges CC                      3\n",
       "Name: ind_privilege, dtype: int64"
      ]
     },
     "execution_count": 41,
     "metadata": {},
     "output_type": "execute_result"
    }
   ],
   "source": [
    "dataset['ind_privilege'].value_counts()"
   ]
  },
  {
   "cell_type": "code",
   "execution_count": 42,
   "id": "d1d14185-13ad-4a93-ac30-c16f3c0fb7e2",
   "metadata": {},
   "outputs": [
    {
     "data": {
      "text/plain": [
       "ind_privilege                bad            \n",
       "Pas d'inscription privilège  Défaillance         1329\n",
       "                             Non défaillance    98575\n",
       "Privilèges CC                Défaillance            2\n",
       "                             Non défaillance        1\n",
       "Privilèges TP                Défaillance           24\n",
       "                             Non défaillance       53\n",
       "Privilèges URSSAF            Défaillance            8\n",
       "                             Non défaillance        8\n",
       "Name: id_firm, dtype: int64"
      ]
     },
     "execution_count": 42,
     "metadata": {},
     "output_type": "execute_result"
    }
   ],
   "source": [
    "privilege_grp=dataset.groupby(['ind_privilege','bad'])['id_firm']\n",
    "privilege_grp.count()\n",
    "# Ils faut surveiller les entreprises qui sont en privilèges et qui ne sont pas en défaillance"
   ]
  },
  {
   "cell_type": "code",
   "execution_count": 43,
   "id": "b7e55632-c29f-4e29-9706-165ce750b695",
   "metadata": {},
   "outputs": [
    {
     "data": {
      "text/plain": [
       "84260    227518\n",
       "Name: id_firm, dtype: int64"
      ]
     },
     "execution_count": 43,
     "metadata": {},
     "output_type": "execute_result"
    }
   ],
   "source": [
    "privilege_grp.get_group(('Privilèges CC','Non défaillance'))"
   ]
  },
  {
   "cell_type": "code",
   "execution_count": 44,
   "id": "57dec928-b4ae-4cfb-bf3d-bd57f629968c",
   "metadata": {},
   "outputs": [
    {
     "data": {
      "text/html": [
       "<iframe\n",
       "    scrolling=\"no\"\n",
       "    width=\"100%\"\n",
       "    height=\"545px\"\n",
       "    src=\"iframe_figures/figure_44.html\"\n",
       "    frameborder=\"0\"\n",
       "    allowfullscreen\n",
       "></iframe>\n"
      ]
     },
     "metadata": {},
     "output_type": "display_data"
    }
   ],
   "source": [
    "import plotly.graph_objects as go\n",
    "fig = go.Figure()\n",
    "\n",
    "fig.add_trace(\n",
    "    go.Histogram(\n",
    "        x = dataset['bonus_c'],\n",
    "        visible = False))\n",
    "\n",
    "fig.add_trace(\n",
    "    go.Histogram(\n",
    "        x = dataset['bad_type'],\n",
    "        visible = False))\n",
    "\n",
    "fig.add_trace(\n",
    "    go.Histogram(\n",
    "        x = dataset['ind_privilege'].value_counts()[1:4],\n",
    "        visible = False))\n",
    "\n",
    "\n",
    "fig.update_layout(\n",
    "        title = go.layout.Title(text = \"Exploration des différentes variables\", x = 0.5),\n",
    "        showlegend = False)\n",
    "\n",
    "fig.update_layout(\n",
    "    updatemenus = [go.layout.Updatemenu(\n",
    "        active = 0,\n",
    "        buttons = [\n",
    "                    go.layout.updatemenu.Button(\n",
    "                        label = \"bonus_c\",\n",
    "                        method = \"update\",\n",
    "                        args = [{\"visible\" : [True, False, False]}]),\n",
    "                    go.layout.updatemenu.Button(\n",
    "                            label = \"bad_type\",\n",
    "                            method = \"update\",\n",
    "                            args = [{\"visible\" : [False, True, False]}]),\n",
    "                    go.layout.updatemenu.Button(\n",
    "                            label = \"ind_privilege\",\n",
    "                            method = \"update\",\n",
    "                            args = [{\"visible\" : [False, False, True]}]) \n",
    "                ]\n",
    "    )]\n",
    ")"
   ]
  },
  {
   "cell_type": "code",
   "execution_count": 45,
   "id": "45553dbf-a4e9-4ac0-ae04-a7f21044d465",
   "metadata": {},
   "outputs": [
    {
     "data": {
      "text/html": [
       "<iframe\n",
       "    scrolling=\"no\"\n",
       "    width=\"100%\"\n",
       "    height=\"545px\"\n",
       "    src=\"iframe_figures/figure_45.html\"\n",
       "    frameborder=\"0\"\n",
       "    allowfullscreen\n",
       "></iframe>\n"
      ]
     },
     "metadata": {},
     "output_type": "display_data"
    }
   ],
   "source": [
    "# Example of how to allow the selection of a type of visualisation\n",
    "fig = go.Figure()\n",
    "\n",
    "fig.add_trace(\n",
    "    go.Histogram(\n",
    "        x = dataset['bonus_c']))\n",
    "\n",
    "fig.add_trace(\n",
    "    go.Box(\n",
    "        x = dataset['bad_type'],\n",
    "        visible = False))\n",
    "\n",
    "fig.add_trace(\n",
    "    go.Violin(\n",
    "        x = dataset['ind_privilege'],\n",
    "        visible = False))\n",
    "\n",
    "fig.update_layout(\n",
    "        title = go.layout.Title(text = \"Exploration des différentes vbles\", x = 0.5),\n",
    "        showlegend = False)\n",
    "\n",
    "fig.update_layout(\n",
    "    updatemenus = [go.layout.Updatemenu(\n",
    "        active = 0,\n",
    "        buttons = [\n",
    "                    go.layout.updatemenu.Button(\n",
    "                        label = \"Histogram\",\n",
    "                        method = \"update\",\n",
    "                        args = [{\"visible\" : [True, False, False]}]),\n",
    "                    go.layout.updatemenu.Button(\n",
    "                            label = \"Box plot\",\n",
    "                            method = \"update\",\n",
    "                            args = [{\"visible\" : [False, True, False]}]),\n",
    "                    go.layout.updatemenu.Button(\n",
    "                            label = \"Violin plot\",\n",
    "                            method = \"update\",\n",
    "                            args = [{\"visible\" : [False, False, True]}]) \n",
    "                ]\n",
    "    )]\n",
    ")"
   ]
  },
  {
   "cell_type": "code",
   "execution_count": 46,
   "id": "dc451d50-839a-4dbb-ac1f-9d0746403025",
   "metadata": {},
   "outputs": [
    {
     "data": {
      "text/plain": [
       "MMD020101_24_60    5497\n",
       "MMD020101_12_23    1942\n",
       "MMD020101_0_11     1629\n",
       "Name: mmd020101, dtype: int64"
      ]
     },
     "execution_count": 46,
     "metadata": {},
     "output_type": "execute_result"
    }
   ],
   "source": [
    "dataset['mmd020101'].value_counts()\n",
    "# Ancienneté en mois du dernier changement de dirigeants "
   ]
  },
  {
   "cell_type": "code",
   "execution_count": 47,
   "id": "d4d938a9-72f4-4edc-9995-0beee29ee6bd",
   "metadata": {},
   "outputs": [],
   "source": [
    "# Recodage du mmd020101 vers une chaine de caractère:\n",
    "dataset['mmd020101']= dataset.mmd020101.apply(lambda x: \"Dernier changements de dirgeants sup à 24 mois\" if x == \"MMD020101_24_60\"\n",
    "                                     else \"Dernier changements de dirgeants sup à 12 mois\" if x == \"MMD020101_12_23\"\n",
    "                                     else \"Dernier changements de dirgeants inf à un an\" if x == \"MMD020101_0_11\"\n",
    "                                     else \"Pas de changements de dirigeants\")"
   ]
  },
  {
   "cell_type": "code",
   "execution_count": 48,
   "id": "e81cf441-a909-4878-8a62-32a1af554b72",
   "metadata": {},
   "outputs": [
    {
     "data": {
      "text/plain": [
       "Pas de changements de dirigeants                  90932\n",
       "Dernier changements de dirgeants sup à 24 mois     5497\n",
       "Dernier changements de dirgeants sup à 12 mois     1942\n",
       "Dernier changements de dirgeants inf à un an       1629\n",
       "Name: mmd020101, dtype: int64"
      ]
     },
     "execution_count": 48,
     "metadata": {},
     "output_type": "execute_result"
    }
   ],
   "source": [
    "dataset['mmd020101'].value_counts()"
   ]
  },
  {
   "cell_type": "code",
   "execution_count": 49,
   "id": "d1671d7c-11f1-476c-86d1-51fbce0a0e9d",
   "metadata": {},
   "outputs": [
    {
     "data": {
      "image/png": "[encoded data removed]",
      "text/plain": [
       "<Figure size 576x432 with 1 Axes>"
      ]
     },
     "metadata": {},
     "output_type": "display_data"
    }
   ],
   "source": [
    "mmd020101= dataset.mmd020101.value_counts()[1:4]\n",
    "plt.figure(figsize = (8, 6))\n",
    "explode=(0,0,0.2)\n",
    "plt.pie(mmd020101, autopct='%1.1f%%', shadow=True, startangle=35, radius=1.2, explode=explode)\n",
    "plt.legend(mmd020101.index, loc='lower right')\n",
    "plt.title(\"Proportions ancienneté en mois du dernier changement de dirigeants\")\n",
    "plt.show()\n",
    "# 61% des Eses ont connu un changement de dirigeant de plus de 24 mois, on doit surveiller les 18% d'entreprises qui ont fait un changement récent"
   ]
  },
  {
   "cell_type": "code",
   "execution_count": 50,
   "id": "6cb3d9ae-22ca-4703-81c8-ef3f88d2eaeb",
   "metadata": {},
   "outputs": [
    {
     "data": {
      "text/plain": [
       "MMD0303_24_60    961\n",
       "MMD0303_12_23    202\n",
       "MMD0303_0_11      94\n",
       "Name: mmd0303, dtype: int64"
      ]
     },
     "execution_count": 50,
     "metadata": {},
     "output_type": "execute_result"
    }
   ],
   "source": [
    "dataset['mmd0303'].value_counts()\n",
    "#Ancienneté en mois de la dernière décision de poursuite de l'activité/ non dissolution\n",
    "#On a 961 Société qui ont une anciennté de 24 à 60 mois donc les 94 société qui ont moins d'un an depuis\n",
    "#la décison de dissolution doivent encore faire l'objet de surveillance "
   ]
  },
  {
   "cell_type": "code",
   "execution_count": 51,
   "id": "2706a91f-3fdc-490d-81d5-7aa0513a0ade",
   "metadata": {},
   "outputs": [],
   "source": [
    "# Recodage du mmd0303 vers une chaine de caractère:\n",
    "dataset['mmd0303']= dataset.mmd0303.apply(lambda x: \"Décision de poursuite de l'activité sup à 24 mois\" if x == \"MMD0303_24_60\"\n",
    "                                     else \"Décision de poursuite de l'activité sup à 12 mois\" if x == \"MMD0303_12_23\"\n",
    "                                     else \"Décision de poursuite de l'activité inf à un an\" if x == \"MMD0303_0_11\"\n",
    "                                     else \"Pas de décision de dissolution\")"
   ]
  },
  {
   "cell_type": "code",
   "execution_count": 52,
   "id": "fa7ba481-0d32-43ad-9f5f-68c51a63d812",
   "metadata": {},
   "outputs": [
    {
     "data": {
      "text/plain": [
       "Pas de décision de dissolution                       98743\n",
       "Décision de poursuite de l'activité sup à 24 mois      961\n",
       "Décision de poursuite de l'activité sup à 12 mois      202\n",
       "Décision de poursuite de l'activité inf à un an         94\n",
       "Name: mmd0303, dtype: int64"
      ]
     },
     "execution_count": 52,
     "metadata": {},
     "output_type": "execute_result"
    }
   ],
   "source": [
    "dataset['mmd0303'].value_counts()"
   ]
  },
  {
   "cell_type": "code",
   "execution_count": 53,
   "id": "ed5ffb46-82c0-4650-badc-438bf1112654",
   "metadata": {},
   "outputs": [
    {
     "data": {
      "image/png": "[encoded data removed]",
      "text/plain": [
       "<Figure size 576x432 with 1 Axes>"
      ]
     },
     "metadata": {},
     "output_type": "display_data"
    }
   ],
   "source": [
    "mmd0303= dataset.mmd0303.value_counts()[1:4]\n",
    "plt.figure(figsize = (8, 6))\n",
    "explode=(0,0,0.2)\n",
    "plt.pie(mmd0303, autopct='%1.1f%%', shadow=True, startangle=35, radius=1.2, explode=explode)\n",
    "plt.legend(mmd0303.index, loc='lower right')\n",
    "plt.title(\"Proportions ancienneté en mois du dernier changement de dirigeants\")\n",
    "plt.show()\n",
    "# 77% des décisions de poursuite de l'activité ont une ancienneté > à 24 mois il faut rester vigileant \n",
    "# sur les 8% qui ont une ancienneté inférieur à un an "
   ]
  },
  {
   "cell_type": "code",
   "execution_count": 54,
   "id": "0cd82bc2-90c8-4b1f-b6b5-f2566928b0e7",
   "metadata": {},
   "outputs": [
    {
     "data": {
      "text/plain": [
       "MMD0402_24_60    1223\n",
       "MMD0402_12_23     484\n",
       "MMD0402_0_11      447\n",
       "Name: mmd0402, dtype: int64"
      ]
     },
     "execution_count": 54,
     "metadata": {},
     "output_type": "execute_result"
    }
   ],
   "source": [
    "dataset['mmd0402'].value_counts()\n",
    "# Ancienneté en mois du dernier changement sur l'enseigne, le sigle ou le nom commercial "
   ]
  },
  {
   "cell_type": "code",
   "execution_count": 55,
   "id": "f0ca176a-d01f-4387-b3b4-b729c8b8d327",
   "metadata": {},
   "outputs": [],
   "source": [
    "# Recodage du mmd0402 vers une chaine de caractère:\n",
    "dataset['mmd0402']= dataset.mmd0402.apply(lambda x: \"Changements d'enseigne sup à 24 mois\" if x == \"MMD0402_24_60\"\n",
    "                                     else \"Changements d'enseigne sup à 12 mois\" if x == \"MMD0402_12_23\"\n",
    "                                     else \"Changements d'enseigne inf à un an\" if x == \"MMD0402_0_11\"\n",
    "                                     else \"Pas de changements d'enseigne ou de nom commercial\")"
   ]
  },
  {
   "cell_type": "code",
   "execution_count": 56,
   "id": "46787ec0-68b6-4f8b-a57c-39f8c28d395d",
   "metadata": {},
   "outputs": [
    {
     "data": {
      "text/plain": [
       "Pas de changements d'enseigne ou de nom commercial    97846\n",
       "Changements d'enseigne sup à 24 mois                   1223\n",
       "Changements d'enseigne sup à 12 mois                    484\n",
       "Changements d'enseigne inf à un an                      447\n",
       "Name: mmd0402, dtype: int64"
      ]
     },
     "execution_count": 56,
     "metadata": {},
     "output_type": "execute_result"
    }
   ],
   "source": [
    "dataset['mmd0402'].value_counts()"
   ]
  },
  {
   "cell_type": "code",
   "execution_count": 57,
   "id": "7b87f7a1-335b-41e3-80e7-c914da1ba69a",
   "metadata": {},
   "outputs": [
    {
     "data": {
      "image/png": "[encoded data removed]",
      "text/plain": [
       "<Figure size 576x432 with 1 Axes>"
      ]
     },
     "metadata": {},
     "output_type": "display_data"
    }
   ],
   "source": [
    "mmd0402= dataset.mmd0402.value_counts()[1:4]\n",
    "plt.figure(figsize = (8, 6))\n",
    "explode=(0,0,0.2)\n",
    "plt.pie(mmd0402, autopct='%1.1f%%', shadow=True, startangle=35, radius=1.2, explode=explode)\n",
    "plt.legend(mmd0402.index, loc='lower right')\n",
    "plt.title(\"Proportions ancienneté en mois du dernier changement d'enseigne\")\n",
    "plt.show()\n",
    "# 57% des changements d'enseignes ont une ancienneté > à 24 mois il faut rester vigileant \n",
    "# sur les 21% qui ont une ancienneté inférieur à un an. Effectivement une socité qui décide de changer d'enseigne\n",
    "# ou de nom commercials’expose à des problèmes de gestion financières avec les différents \n",
    "#établissements financiers. En plus, en matière de positionnement sur le net, la société risque de perdre \n",
    "#des clients potentiels à cause de son absence de l’indexe de Google."
   ]
  },
  {
   "cell_type": "code",
   "execution_count": 58,
   "id": "c97f078c-15ab-4991-88b6-a75e5bf3e6e6",
   "metadata": {},
   "outputs": [
    {
     "data": {
      "text/plain": [
       "MMD0501_12_35    4428\n",
       "MMD0501_36_60    3313\n",
       "MMD0501_0_11     1003\n",
       "Name: mmd0501, dtype: int64"
      ]
     },
     "execution_count": 58,
     "metadata": {},
     "output_type": "execute_result"
    }
   ],
   "source": [
    "dataset['mmd0501'].value_counts()\n",
    "# Ancienneté en mois du dernier transfert de siège"
   ]
  },
  {
   "cell_type": "code",
   "execution_count": 59,
   "id": "c38b151a-260a-469f-9bb5-cf772810a77d",
   "metadata": {},
   "outputs": [],
   "source": [
    "# Recodage du mmd050 vers une chaine de caractère:\n",
    "dataset['mmd0501']= dataset.mmd0501.apply(lambda x: \"Transferts de siège sup à 36 mois\" if x == \"MMD0501_36_60\"\n",
    "                                     else \"Transferts de siège sup à 12 mois\" if x == \"MMD0501_12_35\"\n",
    "                                     else \"Transferts de siège inf à un an\" if x == \"MMD0501_0_11\"\n",
    "                                     else \"Pas de transfert de siège\")"
   ]
  },
  {
   "cell_type": "code",
   "execution_count": 60,
   "id": "2d4a6b79-78e1-426b-b414-fd17074b0ca3",
   "metadata": {},
   "outputs": [
    {
     "data": {
      "text/plain": [
       "Pas de transfert de siège            91256\n",
       "Transferts de siège sup à 12 mois     4428\n",
       "Transferts de siège sup à 36 mois     3313\n",
       "Transferts de siège inf à un an       1003\n",
       "Name: mmd0501, dtype: int64"
      ]
     },
     "execution_count": 60,
     "metadata": {},
     "output_type": "execute_result"
    }
   ],
   "source": [
    "dataset['mmd0501'].value_counts()"
   ]
  },
  {
   "cell_type": "code",
   "execution_count": 61,
   "id": "1a1609e5-8e74-4c11-a1a5-444b094cd256",
   "metadata": {},
   "outputs": [
    {
     "data": {
      "image/png": "[encoded data removed]",
      "text/plain": [
       "<Figure size 576x432 with 1 Axes>"
      ]
     },
     "metadata": {},
     "output_type": "display_data"
    }
   ],
   "source": [
    "mmd0501= dataset.mmd0501.value_counts()[1:4]\n",
    "plt.figure(figsize = (8, 6))\n",
    "explode=(0,0,0.2)\n",
    "plt.pie(mmd0501, autopct='%1.1f%%', shadow=True, startangle=35, radius=1.2, explode=explode)\n",
    "plt.legend(mmd0501.index, loc='lower right')\n",
    "plt.title(\"Proportions ancienneté en mois du dernier changement du siège social\")\n",
    "plt.show()"
   ]
  },
  {
   "cell_type": "code",
   "execution_count": 62,
   "id": "2bb0ce82-59d0-4ae7-bb19-002d91615885",
   "metadata": {},
   "outputs": [],
   "source": [
    "# 51% des changements de siège socialont une  ancienneté > à 36 mois et 12% qui ont une ancienneté inférieur à un an."
   ]
  },
  {
   "cell_type": "markdown",
   "id": "bdcc31a8-bcc9-4c33-961f-5790c8d83d64",
   "metadata": {
    "tags": []
   },
   "source": [
    "***Préprocessing***"
   ]
  },
  {
   "cell_type": "markdown",
   "id": "f5143c40-19fc-43ce-ab76-d18dbafdba4a",
   "metadata": {},
   "source": [
    "- supression de la colonne legal_code qui est vide\n",
    "- les vbles ne convergent pas entre elles, chaque feature est indépendant et apporte une nouvelle information \n",
    "- Je supprime id_firm zipcode et naf_code puisque ce sont des identifiants et n'apportent pas un plus \n"
   ]
  },
  {
   "cell_type": "code",
   "execution_count": 63,
   "id": "2613abc4-0e60-4ef6-9661-da9672071aa7",
   "metadata": {},
   "outputs": [
    {
     "name": "stdout",
     "output_type": "stream",
     "text": [
      "Dropping useless columns...\n",
      "...Done.\n"
     ]
    },
    {
     "data": {
      "text/plain": [
       "(100000, 16)"
      ]
     },
     "execution_count": 63,
     "metadata": {},
     "output_type": "execute_result"
    }
   ],
   "source": [
    "# Drop useless columns / columns with too many missing values\n",
    "useless_cols = ['id_firm','legal_code','naf_code','zipcode']\n",
    "\n",
    "print(\"Dropping useless columns...\")\n",
    "dataset = dataset.drop(useless_cols, axis=1)\n",
    "print(\"...Done.\")\n",
    "dataset.shape"
   ]
  },
  {
   "cell_type": "code",
   "execution_count": 64,
   "id": "6054c128-4965-4ea4-a64f-056a7daac151",
   "metadata": {},
   "outputs": [
    {
     "data": {
      "text/plain": [
       "Non défaillance    98637\n",
       "Défaillance         1363\n",
       "Name: bad, dtype: int64"
      ]
     },
     "execution_count": 64,
     "metadata": {},
     "output_type": "execute_result"
    }
   ],
   "source": [
    "dataset[\"bad\"].value_counts()"
   ]
  },
  {
   "cell_type": "markdown",
   "id": "af0f41a7-50d7-47b2-b4a7-78816a17970f",
   "metadata": {},
   "source": [
    "- Etant donné que mon dataset est déséquilibré je décide de travailler sur un sous échantillon aléatoire"
   ]
  },
  {
   "cell_type": "code",
   "execution_count": 65,
   "id": "e61fd9e6-89d0-4d3d-8d03-9ba66f7ab17f",
   "metadata": {},
   "outputs": [],
   "source": [
    "bad_grp=dataset.groupby(['bad'])"
   ]
  },
  {
   "cell_type": "code",
   "execution_count": 66,
   "id": "609bc253-ac32-4565-9e53-ed197abaf50e",
   "metadata": {},
   "outputs": [
    {
     "data": {
      "text/plain": [
       "(1363, 16)"
      ]
     },
     "execution_count": 66,
     "metadata": {},
     "output_type": "execute_result"
    }
   ],
   "source": [
    "data1=bad_grp.get_group(('Défaillance'))\n",
    "data1.shape"
   ]
  },
  {
   "cell_type": "code",
   "execution_count": 67,
   "id": "2bffe185-c614-4928-8f1b-c9275a62c46d",
   "metadata": {},
   "outputs": [
    {
     "data": {
      "text/plain": [
       "(5000, 16)"
      ]
     },
     "execution_count": 67,
     "metadata": {},
     "output_type": "execute_result"
    }
   ],
   "source": [
    "data2=bad_grp.get_group(('Non défaillance')).sample(n=5000)\n",
    "data2.shape"
   ]
  },
  {
   "cell_type": "code",
   "execution_count": 68,
   "id": "25cb7256-9b5d-4f2a-8324-2f7835da95d6",
   "metadata": {},
   "outputs": [
    {
     "data": {
      "text/plain": [
       "(6363, 16)"
      ]
     },
     "execution_count": 68,
     "metadata": {},
     "output_type": "execute_result"
    }
   ],
   "source": [
    "data2= pd.concat([data2, data1])\n",
    "data2.shape"
   ]
  },
  {
   "cell_type": "code",
   "execution_count": 69,
   "id": "4afd8ce3-40ff-4750-a03a-58face7c1773",
   "metadata": {},
   "outputs": [
    {
     "data": {
      "text/plain": [
       "Non défaillance    5000\n",
       "Défaillance        1363\n",
       "Name: bad, dtype: int64"
      ]
     },
     "execution_count": 69,
     "metadata": {},
     "output_type": "execute_result"
    }
   ],
   "source": [
    "data2['bad'].value_counts()"
   ]
  },
  {
   "cell_type": "code",
   "execution_count": 70,
   "id": "74e61645-5578-4e44-ab56-1eca314009f0",
   "metadata": {},
   "outputs": [
    {
     "data": {
      "text/plain": [
       "activity_index     0.465\n",
       "bonus_a            0.000\n",
       "bonus_c            0.000\n",
       "origin             0.772\n",
       "monoact_code       4.968\n",
       "age_months         0.046\n",
       "nb_employees       0.041\n",
       "paydex            90.159\n",
       "nb_sites           0.000\n",
       "ind_privilege      0.000\n",
       "mmd020101          0.000\n",
       "mmd0303            0.000\n",
       "mmd0402            0.000\n",
       "mmd0501            0.000\n",
       "bad                0.000\n",
       "bad_type          98.637\n",
       "dtype: float64"
      ]
     },
     "metadata": {},
     "output_type": "display_data"
    }
   ],
   "source": [
    "display(100*dataset.isnull().sum()/dataset.shape[0])"
   ]
  },
  {
   "cell_type": "code",
   "execution_count": 71,
   "id": "9ee2ad9e-fb60-4a96-a3ab-1f92f1145b81",
   "metadata": {},
   "outputs": [
    {
     "data": {
      "text/plain": [
       "1.0    94904\n",
       "7.0      103\n",
       "6.0       14\n",
       "2.0        4\n",
       "3.0        3\n",
       "4.0        3\n",
       "0.0        1\n",
       "Name: monoact_code, dtype: int64"
      ]
     },
     "execution_count": 71,
     "metadata": {},
     "output_type": "execute_result"
    }
   ],
   "source": [
    "dataset['monoact_code'].value_counts()\n",
    "# L'indice de monoactivité de l'entreprise permet de qualifier, pour les entreprises pluri-établissements,\n",
    "# l'homogénéité des activités. On peut dire que la plupart des entreprises ont une seule activité"
   ]
  },
  {
   "cell_type": "markdown",
   "id": "302fd07c-c8a0-4d8e-ae40-70c203d6463b",
   "metadata": {},
   "source": [
    "- Etant donnée qu'il y a beaucoup de valeurs manquantes dans paydex et bad_type je décide les enlever \n",
    "- activity_index je le supprime aussi c'est un indicateur d'intensité d'activité, il a beaucoup de catégories\n",
    "- monoact_code je le supprime aussi il n'apporte pas un plus"
   ]
  },
  {
   "cell_type": "code",
   "execution_count": 72,
   "id": "1f8493ad-6639-4bc9-b4ec-86d47623aa31",
   "metadata": {},
   "outputs": [
    {
     "data": {
      "text/plain": [
       "(6363, 12)"
      ]
     },
     "execution_count": 72,
     "metadata": {},
     "output_type": "execute_result"
    }
   ],
   "source": [
    "# Drop useless columns / columns with too many missing values\n",
    "useless_cols = ['activity_index','monoact_code','paydex','bad_type',]\n",
    "dataset = data2.drop(useless_cols, axis=1)\n",
    "dataset.shape"
   ]
  },
  {
   "cell_type": "code",
   "execution_count": 73,
   "id": "89d2b8ad-6ea7-4d57-99eb-c3ddd5ee338f",
   "metadata": {},
   "outputs": [
    {
     "name": "stdout",
     "output_type": "stream",
     "text": [
      "Dropping outliers in age_months...\n",
      "Done. Number of lines remaining :  6362\n",
      "\n"
     ]
    },
    {
     "data": {
      "text/plain": [
       "(6362, 12)"
      ]
     },
     "execution_count": 73,
     "metadata": {},
     "output_type": "execute_result"
    }
   ],
   "source": [
    "# On va supprimer les valeurs abérantes comme on la constaté dans le graphique ci-dessus\n",
    "\n",
    "print('Dropping outliers in age_months...')\n",
    "to_keep = (dataset['age_months'] > 0) | (dataset['age_months']<=1188) # We want keeping positives values or missings\n",
    "dataset = dataset.loc[to_keep,:] \n",
    "print('Done. Number of lines remaining : ', dataset.shape[0])\n",
    "print()\n",
    "\n",
    "dataset.shape"
   ]
  },
  {
   "cell_type": "code",
   "execution_count": 74,
   "id": "ce3862ae-c3e8-4e36-aea0-403e614e3385",
   "metadata": {},
   "outputs": [
    {
     "data": {
      "text/plain": [
       "bonus_a          0.000000\n",
       "bonus_c          0.000000\n",
       "origin           0.597296\n",
       "age_months       0.000000\n",
       "nb_employees     0.000000\n",
       "nb_sites         0.000000\n",
       "ind_privilege    0.000000\n",
       "mmd020101        0.000000\n",
       "mmd0303          0.000000\n",
       "mmd0402          0.000000\n",
       "mmd0501          0.000000\n",
       "bad              0.000000\n",
       "dtype: float64"
      ]
     },
     "metadata": {},
     "output_type": "display_data"
    }
   ],
   "source": [
    "display(100*dataset.isnull().sum()/dataset.shape[0])"
   ]
  },
  {
   "cell_type": "code",
   "execution_count": 75,
   "id": "948a03e0-2c13-42e5-bd32-c86237110259",
   "metadata": {},
   "outputs": [
    {
     "data": {
      "text/plain": [
       "1     5460\n",
       "3      301\n",
       "9      297\n",
       "NR     105\n",
       "6       95\n",
       "4       50\n",
       "C        7\n",
       "8        7\n",
       "5        1\n",
       "D        1\n",
       "Name: origin, dtype: int64"
      ]
     },
     "execution_count": 75,
     "metadata": {},
     "output_type": "execute_result"
    }
   ],
   "source": [
    "dataset['origin'].value_counts()"
   ]
  },
  {
   "cell_type": "code",
   "execution_count": 76,
   "id": "760957af-27fa-46df-8ba4-04886512bdfd",
   "metadata": {},
   "outputs": [],
   "source": [
    "#Origin:je vais remplacer les valeurs manuqnates par 1 qui est la valeur la plus représentée"
   ]
  },
  {
   "cell_type": "code",
   "execution_count": 77,
   "id": "c5f91edf-8f79-47c1-a246-539768ad9289",
   "metadata": {},
   "outputs": [],
   "source": [
    "# Recodage de l'indicateur de défaillance vers une numérique:\n",
    "dataset['bad']= dataset.bad.apply(lambda x:0  if x == \"Non défaillance\"\n",
    "                                     else 1 if x == \"Défaillance\"\n",
    "                                     else \"No data\")"
   ]
  },
  {
   "cell_type": "code",
   "execution_count": 78,
   "id": "56bc3601-f58d-4061-bf9e-3f877b690ba4",
   "metadata": {},
   "outputs": [
    {
     "name": "stdout",
     "output_type": "stream",
     "text": [
      "Separating labels from features...\n",
      "...Done.\n"
     ]
    }
   ],
   "source": [
    "# Separate target variable Y from features X\n",
    "target_name = 'bad'\n",
    "\n",
    "print(\"Separating labels from features...\")\n",
    "Y = dataset.loc[:,target_name]\n",
    "X = dataset.loc[:,[c for c in dataset.columns if c!=target_name]] # All columns are kept, except the target\n",
    "print(\"...Done.\")\n"
   ]
  },
  {
   "cell_type": "markdown",
   "id": "db24eaba-6f29-4ced-aaab-4aaf5a658dab",
   "metadata": {},
   "source": [
    "#cat_column = [c for c in data.columns.values if data[c].dtype == 'object']\n",
    "cat_column_index = [X.columns.get_loc(c) for c in X.columns if X[c].dtype == 'object']  #selecting indexes of the categorical variables\n",
    "num_column_index = [X.columns.get_loc(c) for c in X.columns if X[c].dtype != 'object'] #selecting indexes of the numerical variables"
   ]
  },
  {
   "cell_type": "code",
   "execution_count": 79,
   "id": "8f4fd310-6aa7-4f7e-af20-5b197dfff930",
   "metadata": {},
   "outputs": [
    {
     "name": "stdout",
     "output_type": "stream",
     "text": [
      "Convert pandas DataFrames to numpy arrays...\n",
      "...Done\n"
     ]
    }
   ],
   "source": [
    "# Convert pandas DataFrames to numpy arrays before using scikit-learn\n",
    "print(\"Convert pandas DataFrames to numpy arrays...\")\n",
    "X = X.values\n",
    "Y = Y.tolist()\n",
    "print(\"...Done\")"
   ]
  },
  {
   "cell_type": "code",
   "execution_count": 80,
   "id": "2e64541e-2154-4cc4-854d-c29006c0fa87",
   "metadata": {},
   "outputs": [
    {
     "name": "stdout",
     "output_type": "stream",
     "text": [
      "Dividing into train and test sets...\n",
      "...Done.\n",
      "\n"
     ]
    }
   ],
   "source": [
    "# 2ème étape je fais mon train test_split:  \n",
    "print(\"Dividing into train and test sets...\")\n",
    "X_train, X_test, Y_train, Y_test = train_test_split(X, Y, test_size=0.2, random_state=0,stratify=Y)\n",
    "print(\"...Done.\")\n",
    "print()\n",
    "# Qd on travaille en classification il faut rajouter l'argument stratify, pour avoir la mm proportion de Y sur le train et sur le test "
   ]
  },
  {
   "cell_type": "code",
   "execution_count": 81,
   "id": "4e798842-3cc2-424c-af41-f130ec8dd718",
   "metadata": {},
   "outputs": [
    {
     "name": "stdout",
     "output_type": "stream",
     "text": [
      "...Done.\n",
      "Done\n"
     ]
    }
   ],
   "source": [
    "# Create pipeline for numeric features\n",
    "numeric_features = [3,5] # Positions of numeric columns in X_train/X_test\n",
    "numeric_transformer = Pipeline(steps=[\n",
    "     ('imputer', SimpleImputer(strategy='median')),\n",
    "    ('scaler', StandardScaler())\n",
    "])\n",
    "\n",
    "\n",
    "# Create pipeline for categorical features\n",
    "categorical_features = [0,1,2,4,6,7,8,9,10] # Positions of categorical columns in X_train/X_test\n",
    "categorical_transformer = Pipeline(\n",
    "    steps=[\n",
    "    ('imputer', SimpleImputer(strategy='most_frequent')), # missing values will be replaced by most frequent value\n",
    "    ('encoder', OneHotEncoder(drop='first')) # first column will be dropped to avoid creating correlations between features\n",
    "    ])\n",
    "\n",
    "\n",
    "# Use ColumnTranformer to make a preprocessor object that describes all the treatments to be done\n",
    "preprocessor = ColumnTransformer(\n",
    "    transformers=[\n",
    "        ('num', numeric_transformer, numeric_features),\n",
    "        ('cat', categorical_transformer, categorical_features)\n",
    "    ])\n",
    "\n",
    "\n",
    "X_train = preprocessor.fit_transform(X_train)\n",
    "print('...Done.')\n",
    "\n",
    "X_test = preprocessor.transform(X_test) \n",
    "print('Done')\n"
   ]
  },
  {
   "cell_type": "markdown",
   "id": "afe6f0e0-a6df-4389-9234-3b26cf34f154",
   "metadata": {},
   "source": [
    "Logistic Regression"
   ]
  },
  {
   "cell_type": "code",
   "execution_count": 82,
   "id": "709a89f0-9903-4c4a-a9fd-3d88b610a6ca",
   "metadata": {},
   "outputs": [
    {
     "name": "stdout",
     "output_type": "stream",
     "text": [
      "...Done.\n"
     ]
    }
   ],
   "source": [
    "# Train model\n",
    "model = LogisticRegression(C=0.91, dual=False, max_iter=500,\n",
    "                   multi_class='auto', n_jobs=None, penalty='l2', verbose=0)\n",
    "\n",
    "model.fit(X_train, Y_train)\n",
    "print(\"...Done.\")\n"
   ]
  },
  {
   "cell_type": "code",
   "execution_count": 83,
   "id": "11c4cf8e-04bf-41e3-b813-c645e2c7dd11",
   "metadata": {},
   "outputs": [],
   "source": [
    "# Predictions on sets\n",
    "Y_train_pred = model.predict(X_train)\n",
    "Y_test_pred = model.predict(X_test)"
   ]
  },
  {
   "cell_type": "code",
   "execution_count": 84,
   "id": "2471c185-08dc-4946-bbb2-be0a911ed680",
   "metadata": {},
   "outputs": [
    {
     "name": "stdout",
     "output_type": "stream",
     "text": [
      "Accuracy on training set :  0.8486932599724897\n",
      "Accuracy on test set :  0.8476040848389631\n"
     ]
    }
   ],
   "source": [
    "from sklearn.metrics import accuracy_score\n",
    "# Print scores\n",
    "print(\"Accuracy on training set : \", accuracy_score(Y_train, Y_train_pred))\n",
    "print(\"Accuracy on test set : \", accuracy_score(Y_test, Y_test_pred))"
   ]
  },
  {
   "cell_type": "code",
   "execution_count": 85,
   "id": "b81c3150-11a3-45aa-8216-991cba8a73b2",
   "metadata": {},
   "outputs": [
    {
     "name": "stdout",
     "output_type": "stream",
     "text": [
      "f1 train : 0.6035015447991761\n",
      "f1 test : 0.5889830508474576\n"
     ]
    }
   ],
   "source": [
    "print('f1 train :',f1_score(Y_train, Y_train_pred))\n",
    "print('f1 test :',f1_score(Y_test, Y_test_pred))"
   ]
  },
  {
   "cell_type": "code",
   "execution_count": 86,
   "id": "d76b0f4f-cea0-4fa4-93be-baf08b24d6fd",
   "metadata": {},
   "outputs": [
    {
     "name": "stdout",
     "output_type": "stream",
     "text": [
      "              precision    recall  f1-score   support\n",
      "\n",
      "           0       0.88      0.94      0.91      1000\n",
      "           1       0.70      0.51      0.59       273\n",
      "\n",
      "    accuracy                           0.85      1273\n",
      "   macro avg       0.79      0.72      0.75      1273\n",
      "weighted avg       0.84      0.85      0.84      1273\n",
      "\n"
     ]
    }
   ],
   "source": [
    "print(classification_report(y_true=Y_test, y_pred=model.predict(X_test)))"
   ]
  },
  {
   "cell_type": "code",
   "execution_count": 87,
   "id": "c0f965bf-5891-413a-a5ab-afa01d7e2ca1",
   "metadata": {},
   "outputs": [
    {
     "data": {
      "text/plain": [
       "[]"
      ]
     },
     "execution_count": 87,
     "metadata": {},
     "output_type": "execute_result"
    },
    {
     "data": {
      "image/png": "[encoded data removed]",
      "text/plain": [
       "<Figure size 864x288 with 4 Axes>"
      ]
     },
     "metadata": {
      "needs_background": "light"
     },
     "output_type": "display_data"
    }
   ],
   "source": [
    "# Create confusion Matrix\n",
    "\n",
    "cm_train = metrics.confusion_matrix(Y_train, Y_train_pred) \n",
    "cm_test = metrics.confusion_matrix(Y_test, Y_test_pred) \n",
    "\n",
    "\n",
    "fig, (ax1, ax2) = plt.subplots(1,2, figsize=(12,4))\n",
    "sns.heatmap(cm_train, annot=True, ax = ax1, fmt=\".6g\" )\n",
    "sns.heatmap(cm_test, annot=True, ax = ax2, fmt=\".6g\" )\n",
    "\n",
    "\n",
    "ax1.set_title('confusion matrix of the train set')\n",
    "ax2.set_title('confusion matrix of the test set')\n",
    "plt.plot()\n",
    "# la matrice de confusion est une matrice qui mesure la qualité d'un système de classification, on s'intèresse à la ligne \n",
    "# orthogonale pr le train set on a 244 FN et 505 FP(les 244 FN nous intéresse ces entreprises sont considerées comme non défaillantes\n",
    "# alors qu'elles le sont)"
   ]
  },
  {
   "cell_type": "code",
   "execution_count": 89,
   "id": "7864be67-9ba8-4f89-a939-eeede7f75fa1",
   "metadata": {},
   "outputs": [
    {
     "data": {
      "text/html": [
       "<iframe\n",
       "    scrolling=\"no\"\n",
       "    width=\"100%\"\n",
       "    height=\"545px\"\n",
       "    src=\"iframe_figures/figure_89.html\"\n",
       "    frameborder=\"0\"\n",
       "    allowfullscreen\n",
       "></iframe>\n"
      ]
     },
     "metadata": {},
     "output_type": "display_data"
    }
   ],
   "source": [
    "# Visualize ROC curves\n",
    "probas_train = model.predict_proba(X_train)[:,1]\n",
    "precisions, recalls, thresholds = roc_curve(Y_train, probas_train)\n",
    "fig = go.Figure(\n",
    "    data = go.Scatter(\n",
    "        name = 'train',\n",
    "        x = recalls, \n",
    "        y = precisions, \n",
    "        mode = 'lines'\n",
    "    ),\n",
    "    layout = go.Layout(\n",
    "        title = go.layout.Title(text = \"ROC curve\", x = 0.5),\n",
    "        xaxis = go.layout.XAxis(title = 'False Positive Rate'),\n",
    "        yaxis = go.layout.YAxis(title = 'True Positive Rate')\n",
    "    )\n",
    ")\n",
    "\n",
    "probas_test = model.predict_proba(X_test)[:,1]\n",
    "precisions, recalls, thresholds = roc_curve(Y_test, probas_test)\n",
    "fig.add_trace(go.Scatter(\n",
    "    name = 'test',\n",
    "    x = recalls, \n",
    "    y = precisions, \n",
    "    mode = 'lines'\n",
    "    )\n",
    ")\n",
    "fig.show()"
   ]
  },
  {
   "cell_type": "markdown",
   "id": "a14cd4c4-d5ff-4693-83de-d5ec72cebf35",
   "metadata": {},
   "source": [
    "Decision Tree"
   ]
  },
  {
   "cell_type": "code",
   "execution_count": 90,
   "id": "02907f76-2b7e-4b91-9559-4f6df40845b6",
   "metadata": {},
   "outputs": [],
   "source": [
    "decision_tree = DecisionTreeClassifier(criterion='entropy', splitter='best', max_depth = 5, min_samples_split=2,\n",
    "                              min_samples_leaf=9, min_weight_fraction_leaf=0.0, max_features=None, random_state=None,\n",
    "                              max_leaf_nodes=None, min_impurity_decrease=0.0, class_weight=None, ccp_alpha=0.0)\n",
    "\n"
   ]
  },
  {
   "cell_type": "code",
   "execution_count": 91,
   "id": "528c828a-04cb-44fe-a240-4e20c0b49cbc",
   "metadata": {},
   "outputs": [
    {
     "data": {
      "text/plain": [
       "DecisionTreeClassifier(criterion='entropy', max_depth=5, min_samples_leaf=9)"
      ]
     },
     "execution_count": 91,
     "metadata": {},
     "output_type": "execute_result"
    }
   ],
   "source": [
    "decision_tree.fit(X_train, Y_train)"
   ]
  },
  {
   "cell_type": "code",
   "execution_count": 92,
   "id": "01764725-ef56-441b-8d2c-a2353244af13",
   "metadata": {},
   "outputs": [
    {
     "name": "stdout",
     "output_type": "stream",
     "text": [
      "f1 train : 0.7740903638544582\n",
      "f1 test : 0.7862969004893964\n"
     ]
    }
   ],
   "source": [
    "print('f1 train :',f1_score(Y_train, decision_tree.predict(X_train) ))\n",
    "print('f1 test :',f1_score(Y_test, decision_tree.predict(X_test) ))"
   ]
  },
  {
   "cell_type": "markdown",
   "id": "bdb041eb-16ee-4200-b2f0-f874a74bb0ef",
   "metadata": {},
   "source": [
    "---Random Forest"
   ]
  },
  {
   "cell_type": "code",
   "execution_count": 93,
   "id": "9ae1c248-f62a-49b6-afcd-ef065d4ee58f",
   "metadata": {},
   "outputs": [
    {
     "data": {
      "text/plain": [
       "RandomForestClassifier(max_depth=7, min_samples_leaf=3, random_state=2)"
      ]
     },
     "execution_count": 93,
     "metadata": {},
     "output_type": "execute_result"
    }
   ],
   "source": [
    "rdm_forest = RandomForestClassifier(n_estimators=100, criterion='gini', max_depth=7, min_samples_split=2, min_samples_leaf=3, \n",
    "                       random_state=2)\n",
    "\n",
    "rdm_forest.fit(X_train, Y_train)"
   ]
  },
  {
   "cell_type": "code",
   "execution_count": 94,
   "id": "4d522805-d595-43c4-b774-3aab40b94acb",
   "metadata": {},
   "outputs": [
    {
     "name": "stdout",
     "output_type": "stream",
     "text": [
      "f1 train : 0.7711464147702877\n",
      "f1 test : 0.7646017699115044\n"
     ]
    }
   ],
   "source": [
    "print('f1 train :',f1_score(Y_train, rdm_forest.predict(X_train) ))\n",
    "print('f1 test :',f1_score(Y_test, rdm_forest.predict(X_test) ))"
   ]
  },
  {
   "cell_type": "code",
   "execution_count": null,
   "id": "e0cc4227-288c-475d-9199-4a1257f1b8e9",
   "metadata": {},
   "outputs": [],
   "source": []
  }
 ],
 "metadata": {
  "kernelspec": {
   "display_name": "Python 3 (ipykernel)",
   "language": "python",
   "name": "python3"
  },
  "language_info": {
   "codemirror_mode": {
    "name": "ipython",
    "version": 3
   },
   "file_extension": ".py",
   "mimetype": "text/x-python",
   "name": "python",
   "nbconvert_exporter": "python",
   "pygments_lexer": "ipython3",
   "version": "3.9.7"
  }
 },
 "nbformat": 4,
 "nbformat_minor": 5
}
